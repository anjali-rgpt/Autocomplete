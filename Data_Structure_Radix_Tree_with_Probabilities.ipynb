{
  "nbformat": 4,
  "nbformat_minor": 0,
  "metadata": {
    "colab": {
      "name": "Data Structure- Radix Tree with Probabilities.ipynb",
      "provenance": [],
      "collapsed_sections": [],
      "include_colab_link": true
    },
    "kernelspec": {
      "name": "python3",
      "display_name": "Python 3"
    },
    "widgets": {
      "application/vnd.jupyter.widget-state+json": {
        "a43b1200484744d3abcdf96e06504e72": {
          "model_module": "@jupyter-widgets/controls",
          "model_name": "HBoxModel",
          "state": {
            "_view_name": "HBoxView",
            "_dom_classes": [],
            "_model_name": "HBoxModel",
            "_view_module": "@jupyter-widgets/controls",
            "_model_module_version": "1.5.0",
            "_view_count": null,
            "_view_module_version": "1.5.0",
            "box_style": "",
            "layout": "IPY_MODEL_2d06e66a246643aa884392d83e9caf4d",
            "_model_module": "@jupyter-widgets/controls",
            "children": [
              "IPY_MODEL_bda308708fca4c898ddded5598f24221",
              "IPY_MODEL_bf90d6b56521401389ae2142c9e14151"
            ]
          }
        },
        "2d06e66a246643aa884392d83e9caf4d": {
          "model_module": "@jupyter-widgets/base",
          "model_name": "LayoutModel",
          "state": {
            "_view_name": "LayoutView",
            "grid_template_rows": null,
            "right": null,
            "justify_content": null,
            "_view_module": "@jupyter-widgets/base",
            "overflow": null,
            "_model_module_version": "1.2.0",
            "_view_count": null,
            "flex_flow": null,
            "width": null,
            "min_width": null,
            "border": null,
            "align_items": null,
            "bottom": null,
            "_model_module": "@jupyter-widgets/base",
            "top": null,
            "grid_column": null,
            "overflow_y": null,
            "overflow_x": null,
            "grid_auto_flow": null,
            "grid_area": null,
            "grid_template_columns": null,
            "flex": null,
            "_model_name": "LayoutModel",
            "justify_items": null,
            "grid_row": null,
            "max_height": null,
            "align_content": null,
            "visibility": null,
            "align_self": null,
            "height": null,
            "min_height": null,
            "padding": null,
            "grid_auto_rows": null,
            "grid_gap": null,
            "max_width": null,
            "order": null,
            "_view_module_version": "1.2.0",
            "grid_template_areas": null,
            "object_position": null,
            "object_fit": null,
            "grid_auto_columns": null,
            "margin": null,
            "display": null,
            "left": null
          }
        },
        "bda308708fca4c898ddded5598f24221": {
          "model_module": "@jupyter-widgets/controls",
          "model_name": "IntProgressModel",
          "state": {
            "_view_name": "ProgressView",
            "style": "IPY_MODEL_220d8c0f79a74d9fa0d5728ea66837f8",
            "_dom_classes": [],
            "description": "",
            "_model_name": "IntProgressModel",
            "bar_style": "success",
            "max": 5,
            "_view_module": "@jupyter-widgets/controls",
            "_model_module_version": "1.5.0",
            "value": 5,
            "_view_count": null,
            "_view_module_version": "1.5.0",
            "orientation": "horizontal",
            "min": 0,
            "description_tooltip": null,
            "_model_module": "@jupyter-widgets/controls",
            "layout": "IPY_MODEL_287a518367644a0888b073cdb2ce9f8f"
          }
        },
        "bf90d6b56521401389ae2142c9e14151": {
          "model_module": "@jupyter-widgets/controls",
          "model_name": "HTMLModel",
          "state": {
            "_view_name": "HTMLView",
            "style": "IPY_MODEL_0733ec49ca4c4896b66d42e93378aff2",
            "_dom_classes": [],
            "description": "",
            "_model_name": "HTMLModel",
            "placeholder": "​",
            "_view_module": "@jupyter-widgets/controls",
            "_model_module_version": "1.5.0",
            "value": "100% 5/5 [00:00&lt;00:00, 268.65it/s]",
            "_view_count": null,
            "_view_module_version": "1.5.0",
            "description_tooltip": null,
            "_model_module": "@jupyter-widgets/controls",
            "layout": "IPY_MODEL_d64d05b8043c4983bf689f1d9eeac2fb"
          }
        },
        "220d8c0f79a74d9fa0d5728ea66837f8": {
          "model_module": "@jupyter-widgets/controls",
          "model_name": "ProgressStyleModel",
          "state": {
            "_view_name": "StyleView",
            "_model_name": "ProgressStyleModel",
            "description_width": "",
            "_view_module": "@jupyter-widgets/base",
            "_model_module_version": "1.5.0",
            "_view_count": null,
            "_view_module_version": "1.2.0",
            "bar_color": null,
            "_model_module": "@jupyter-widgets/controls"
          }
        },
        "287a518367644a0888b073cdb2ce9f8f": {
          "model_module": "@jupyter-widgets/base",
          "model_name": "LayoutModel",
          "state": {
            "_view_name": "LayoutView",
            "grid_template_rows": null,
            "right": null,
            "justify_content": null,
            "_view_module": "@jupyter-widgets/base",
            "overflow": null,
            "_model_module_version": "1.2.0",
            "_view_count": null,
            "flex_flow": null,
            "width": null,
            "min_width": null,
            "border": null,
            "align_items": null,
            "bottom": null,
            "_model_module": "@jupyter-widgets/base",
            "top": null,
            "grid_column": null,
            "overflow_y": null,
            "overflow_x": null,
            "grid_auto_flow": null,
            "grid_area": null,
            "grid_template_columns": null,
            "flex": null,
            "_model_name": "LayoutModel",
            "justify_items": null,
            "grid_row": null,
            "max_height": null,
            "align_content": null,
            "visibility": null,
            "align_self": null,
            "height": null,
            "min_height": null,
            "padding": null,
            "grid_auto_rows": null,
            "grid_gap": null,
            "max_width": null,
            "order": null,
            "_view_module_version": "1.2.0",
            "grid_template_areas": null,
            "object_position": null,
            "object_fit": null,
            "grid_auto_columns": null,
            "margin": null,
            "display": null,
            "left": null
          }
        },
        "0733ec49ca4c4896b66d42e93378aff2": {
          "model_module": "@jupyter-widgets/controls",
          "model_name": "DescriptionStyleModel",
          "state": {
            "_view_name": "StyleView",
            "_model_name": "DescriptionStyleModel",
            "description_width": "",
            "_view_module": "@jupyter-widgets/base",
            "_model_module_version": "1.5.0",
            "_view_count": null,
            "_view_module_version": "1.2.0",
            "_model_module": "@jupyter-widgets/controls"
          }
        },
        "d64d05b8043c4983bf689f1d9eeac2fb": {
          "model_module": "@jupyter-widgets/base",
          "model_name": "LayoutModel",
          "state": {
            "_view_name": "LayoutView",
            "grid_template_rows": null,
            "right": null,
            "justify_content": null,
            "_view_module": "@jupyter-widgets/base",
            "overflow": null,
            "_model_module_version": "1.2.0",
            "_view_count": null,
            "flex_flow": null,
            "width": null,
            "min_width": null,
            "border": null,
            "align_items": null,
            "bottom": null,
            "_model_module": "@jupyter-widgets/base",
            "top": null,
            "grid_column": null,
            "overflow_y": null,
            "overflow_x": null,
            "grid_auto_flow": null,
            "grid_area": null,
            "grid_template_columns": null,
            "flex": null,
            "_model_name": "LayoutModel",
            "justify_items": null,
            "grid_row": null,
            "max_height": null,
            "align_content": null,
            "visibility": null,
            "align_self": null,
            "height": null,
            "min_height": null,
            "padding": null,
            "grid_auto_rows": null,
            "grid_gap": null,
            "max_width": null,
            "order": null,
            "_view_module_version": "1.2.0",
            "grid_template_areas": null,
            "object_position": null,
            "object_fit": null,
            "grid_auto_columns": null,
            "margin": null,
            "display": null,
            "left": null
          }
        },
        "c678ee6e9a074953970470a4d80f8169": {
          "model_module": "@jupyter-widgets/controls",
          "model_name": "HBoxModel",
          "state": {
            "_view_name": "HBoxView",
            "_dom_classes": [],
            "_model_name": "HBoxModel",
            "_view_module": "@jupyter-widgets/controls",
            "_model_module_version": "1.5.0",
            "_view_count": null,
            "_view_module_version": "1.5.0",
            "box_style": "",
            "layout": "IPY_MODEL_842d52f660f94dc6803ca0b91accafec",
            "_model_module": "@jupyter-widgets/controls",
            "children": [
              "IPY_MODEL_a5d61035764f48b8a460a48708234bdc",
              "IPY_MODEL_e25c9877f5214a7893fa1ac2862e6a10"
            ]
          }
        },
        "842d52f660f94dc6803ca0b91accafec": {
          "model_module": "@jupyter-widgets/base",
          "model_name": "LayoutModel",
          "state": {
            "_view_name": "LayoutView",
            "grid_template_rows": null,
            "right": null,
            "justify_content": null,
            "_view_module": "@jupyter-widgets/base",
            "overflow": null,
            "_model_module_version": "1.2.0",
            "_view_count": null,
            "flex_flow": null,
            "width": null,
            "min_width": null,
            "border": null,
            "align_items": null,
            "bottom": null,
            "_model_module": "@jupyter-widgets/base",
            "top": null,
            "grid_column": null,
            "overflow_y": null,
            "overflow_x": null,
            "grid_auto_flow": null,
            "grid_area": null,
            "grid_template_columns": null,
            "flex": null,
            "_model_name": "LayoutModel",
            "justify_items": null,
            "grid_row": null,
            "max_height": null,
            "align_content": null,
            "visibility": null,
            "align_self": null,
            "height": null,
            "min_height": null,
            "padding": null,
            "grid_auto_rows": null,
            "grid_gap": null,
            "max_width": null,
            "order": null,
            "_view_module_version": "1.2.0",
            "grid_template_areas": null,
            "object_position": null,
            "object_fit": null,
            "grid_auto_columns": null,
            "margin": null,
            "display": null,
            "left": null
          }
        },
        "a5d61035764f48b8a460a48708234bdc": {
          "model_module": "@jupyter-widgets/controls",
          "model_name": "IntProgressModel",
          "state": {
            "_view_name": "ProgressView",
            "style": "IPY_MODEL_c0f7d77b1aaf4d1db84eff9e6b202630",
            "_dom_classes": [],
            "description": "",
            "_model_name": "IntProgressModel",
            "bar_style": "danger",
            "max": 260819,
            "_view_module": "@jupyter-widgets/controls",
            "_model_module_version": "1.5.0",
            "value": 72447,
            "_view_count": null,
            "_view_module_version": "1.5.0",
            "orientation": "horizontal",
            "min": 0,
            "description_tooltip": null,
            "_model_module": "@jupyter-widgets/controls",
            "layout": "IPY_MODEL_b317889f944c41ec87c7b8a9405bcbe1"
          }
        },
        "e25c9877f5214a7893fa1ac2862e6a10": {
          "model_module": "@jupyter-widgets/controls",
          "model_name": "HTMLModel",
          "state": {
            "_view_name": "HTMLView",
            "style": "IPY_MODEL_f68f2c6b4b4049ae939cdb04c260aa60",
            "_dom_classes": [],
            "description": "",
            "_model_name": "HTMLModel",
            "placeholder": "​",
            "_view_module": "@jupyter-widgets/controls",
            "_model_module_version": "1.5.0",
            "value": " 28% 72447/260819 [00:12&lt;00:32, 5709.08it/s]",
            "_view_count": null,
            "_view_module_version": "1.5.0",
            "description_tooltip": null,
            "_model_module": "@jupyter-widgets/controls",
            "layout": "IPY_MODEL_88f9b3e803b446109d7386403b022ab3"
          }
        },
        "c0f7d77b1aaf4d1db84eff9e6b202630": {
          "model_module": "@jupyter-widgets/controls",
          "model_name": "ProgressStyleModel",
          "state": {
            "_view_name": "StyleView",
            "_model_name": "ProgressStyleModel",
            "description_width": "",
            "_view_module": "@jupyter-widgets/base",
            "_model_module_version": "1.5.0",
            "_view_count": null,
            "_view_module_version": "1.2.0",
            "bar_color": null,
            "_model_module": "@jupyter-widgets/controls"
          }
        },
        "b317889f944c41ec87c7b8a9405bcbe1": {
          "model_module": "@jupyter-widgets/base",
          "model_name": "LayoutModel",
          "state": {
            "_view_name": "LayoutView",
            "grid_template_rows": null,
            "right": null,
            "justify_content": null,
            "_view_module": "@jupyter-widgets/base",
            "overflow": null,
            "_model_module_version": "1.2.0",
            "_view_count": null,
            "flex_flow": null,
            "width": null,
            "min_width": null,
            "border": null,
            "align_items": null,
            "bottom": null,
            "_model_module": "@jupyter-widgets/base",
            "top": null,
            "grid_column": null,
            "overflow_y": null,
            "overflow_x": null,
            "grid_auto_flow": null,
            "grid_area": null,
            "grid_template_columns": null,
            "flex": null,
            "_model_name": "LayoutModel",
            "justify_items": null,
            "grid_row": null,
            "max_height": null,
            "align_content": null,
            "visibility": null,
            "align_self": null,
            "height": null,
            "min_height": null,
            "padding": null,
            "grid_auto_rows": null,
            "grid_gap": null,
            "max_width": null,
            "order": null,
            "_view_module_version": "1.2.0",
            "grid_template_areas": null,
            "object_position": null,
            "object_fit": null,
            "grid_auto_columns": null,
            "margin": null,
            "display": null,
            "left": null
          }
        },
        "f68f2c6b4b4049ae939cdb04c260aa60": {
          "model_module": "@jupyter-widgets/controls",
          "model_name": "DescriptionStyleModel",
          "state": {
            "_view_name": "StyleView",
            "_model_name": "DescriptionStyleModel",
            "description_width": "",
            "_view_module": "@jupyter-widgets/base",
            "_model_module_version": "1.5.0",
            "_view_count": null,
            "_view_module_version": "1.2.0",
            "_model_module": "@jupyter-widgets/controls"
          }
        },
        "88f9b3e803b446109d7386403b022ab3": {
          "model_module": "@jupyter-widgets/base",
          "model_name": "LayoutModel",
          "state": {
            "_view_name": "LayoutView",
            "grid_template_rows": null,
            "right": null,
            "justify_content": null,
            "_view_module": "@jupyter-widgets/base",
            "overflow": null,
            "_model_module_version": "1.2.0",
            "_view_count": null,
            "flex_flow": null,
            "width": null,
            "min_width": null,
            "border": null,
            "align_items": null,
            "bottom": null,
            "_model_module": "@jupyter-widgets/base",
            "top": null,
            "grid_column": null,
            "overflow_y": null,
            "overflow_x": null,
            "grid_auto_flow": null,
            "grid_area": null,
            "grid_template_columns": null,
            "flex": null,
            "_model_name": "LayoutModel",
            "justify_items": null,
            "grid_row": null,
            "max_height": null,
            "align_content": null,
            "visibility": null,
            "align_self": null,
            "height": null,
            "min_height": null,
            "padding": null,
            "grid_auto_rows": null,
            "grid_gap": null,
            "max_width": null,
            "order": null,
            "_view_module_version": "1.2.0",
            "grid_template_areas": null,
            "object_position": null,
            "object_fit": null,
            "grid_auto_columns": null,
            "margin": null,
            "display": null,
            "left": null
          }
        }
      }
    }
  },
  "cells": [
    {
      "cell_type": "markdown",
      "metadata": {
        "id": "view-in-github",
        "colab_type": "text"
      },
      "source": [
        "<a href=\"https://colab.research.google.com/github/anjali-rgpt/Autocomplete/blob/master/Data_Structure_Radix_Tree_with_Probabilities.ipynb\" target=\"_parent\"><img src=\"https://colab.research.google.com/assets/colab-badge.svg\" alt=\"Open In Colab\"/></a>"
      ]
    },
    {
      "cell_type": "code",
      "metadata": {
        "id": "pgQLt22eqccz",
        "colab_type": "code",
        "colab": {}
      },
      "source": [
        "import requests\n",
        "from tqdm import tqdm_notebook as tqdm\n",
        "import sys, inspect\n",
        "import numpy as np\n"
      ],
      "execution_count": null,
      "outputs": []
    },
    {
      "cell_type": "code",
      "metadata": {
        "id": "3d6dpH1XyO7T",
        "colab_type": "code",
        "colab": {}
      },
      "source": [
        "# Function to calculate size of Tree Object\n",
        "# Adapted from: https://github.com/bosswissam/pysize\n",
        "def get_size(obj, seen=None):\n",
        "    \"\"\"Recursively finds size of objects in bytes\"\"\"\n",
        "    size = sys.getsizeof(obj)\n",
        "    if seen is None:\n",
        "        seen = set()\n",
        "    obj_id = id(obj)\n",
        "    if obj_id in seen:\n",
        "        return 0\n",
        "    # Important mark as seen *before* entering recursion to gracefully handle\n",
        "    # self-referential objects\n",
        "    seen.add(obj_id)\n",
        "    if hasattr(obj, '__dict__'):\n",
        "        for cls in obj.__class__.__mro__:\n",
        "            if '__dict__' in cls.__dict__:\n",
        "                d = cls.__dict__['__dict__']\n",
        "                if inspect.isgetsetdescriptor(d) or inspect.ismemberdescriptor(d):\n",
        "                    size += get_size(obj.__dict__, seen)\n",
        "                break\n",
        "    if isinstance(obj, dict):\n",
        "        size += sum((get_size(v, seen) for v in obj.values()))\n",
        "        size += sum((get_size(k, seen) for k in obj.keys()))\n",
        "    elif hasattr(obj, '__iter__') and not isinstance(obj, (str, bytes, bytearray)):\n",
        "        size += sum((get_size(i, seen) for i in obj))\n",
        "        \n",
        "    if hasattr(obj, '__slots__'): # can have __slots__ with __dict__\n",
        "        size += sum(get_size(getattr(obj, s), seen) for s in obj.__slots__ if hasattr(obj, s))\n",
        "        \n",
        "    return size"
      ],
      "execution_count": null,
      "outputs": []
    },
    {
      "cell_type": "code",
      "metadata": {
        "id": "pUhZjW3KyS99",
        "colab_type": "code",
        "colab": {}
      },
      "source": [
        "\n",
        "# Function to make a tree, when given text file\n",
        "def makeTree(text):\n",
        "  words = text.split()\n",
        "  tree = Radix()\n",
        "  with tqdm(total=len(words)) as pbar:\n",
        "    for word in words:\n",
        "      tree.addWord(word)\n",
        "      pbar.update(1)\n",
        "  print('Tree built with {} words'.format(len(words)))\n",
        "  return tree\n",
        "\n"
      ],
      "execution_count": null,
      "outputs": []
    },
    {
      "cell_type": "code",
      "metadata": {
        "id": "hmwAqxR_yVPl",
        "colab_type": "code",
        "colab": {}
      },
      "source": [
        "# Same as makeTree, but uses iterative method\n",
        "def fastTree(text):\n",
        "  words = text.split()\n",
        "  tree = Radix()\n",
        "  with tqdm(total=len(words)) as pbar:\n",
        "    for word in words:\n",
        "      tree.fastAdd(word)\n",
        "      pbar.update(1)\n",
        "  print('Tree built with {} words'.format(len(words)))\n",
        "  return tree\n",
        "\n"
      ],
      "execution_count": null,
      "outputs": []
    },
    {
      "cell_type": "code",
      "metadata": {
        "id": "M7ipusn1yWu8",
        "colab_type": "code",
        "colab": {}
      },
      "source": [
        "# given text corpus, find the number of times \n",
        "# a node is visited while it is traversed\n",
        "def train(tree, corpus):\n",
        "  for word in corpus.split():\n",
        "    tree.traverse(word)"
      ],
      "execution_count": null,
      "outputs": []
    },
    {
      "cell_type": "code",
      "metadata": {
        "id": "PKMTRnDTyaVy",
        "colab_type": "code",
        "colab": {}
      },
      "source": [
        "\n",
        "# Text corpora to build tree:\n",
        "s = requests.get('https://raw.githubusercontent.com/dwyl/english-words/master/words_alpha.txt')\n",
        "r = requests.get('https://raw.githubusercontent.com/first20hours/google-10000-english/master/google-10000-english.txt')\n",
        "g = requests.get('https://raw.githubusercontent.com/first20hours/google-10000-english/master/20k.txt')\n",
        "\n",
        "\n",
        "hugetext = s.text\n",
        "gianttext = g.text\n",
        "bigtext = r.text\n",
        "smoltext = \"hello hell helmet henry helm\""
      ],
      "execution_count": null,
      "outputs": []
    },
    {
      "cell_type": "code",
      "metadata": {
        "colab_type": "code",
        "id": "X4zTCO5HV7WW",
        "colab": {}
      },
      "source": [
        "# Radix class implementation\n",
        "\n",
        "\n",
        "class Radix:\n",
        "  \n",
        "  __slots__ = (\"data\", \"endword\", \"count\")\n",
        "\n",
        "  def __init__(self):\n",
        "    self.data = dict()\n",
        "    self.endword = list()\n",
        "    self.count = 1\n",
        "\n",
        "  def addWord(self, word, origin = \"\"):\n",
        "    node = self\n",
        "\n",
        "    if len(word) == 0 and origin != \"\" and origin not in node.endword:\n",
        "      node.endword.append(origin)\n",
        "      # print(\"End of word \", origin)\n",
        "      return\n",
        "\n",
        "    if origin == \"\":\n",
        "      origin += word\n",
        "\n",
        "    # print('\\nGot word:', word)\n",
        "    # print(\"Origin:\", origin)\n",
        "\n",
        "    substrings = [word[:i] for i in range(len(word), 0, -1)]\n",
        "    # print('Substrings:', substrings)\n",
        "    \n",
        "    for sub in substrings:\n",
        "      if sub in node.data:\n",
        "        # print('Moving to node:', sub)\n",
        "        node = node.data[sub]\n",
        "        return node.addWord(word[len(sub):], origin)\n",
        "      for el in node.data:  \n",
        "        if el.startswith(sub):\n",
        "          # print('Creating new node:', sub)\n",
        "          node.data[sub] = Radix()\n",
        "          # print('Patching tree with data from old element:', el)\n",
        "          node.data[sub].data[el[len(sub):]] = node.data[el]\n",
        "          del node.data[el]\n",
        "          # print('Moving to node:', sub)\n",
        "          node = node.data[sub]\n",
        "          return node.addWord(word[len(sub):], origin)\n",
        "      if sub == substrings[-1]:\n",
        "        # print('Adding word:', word)\n",
        "        node.data[word] = Radix()\n",
        "        if origin not in node.data[word].endword:\n",
        "          node.data[word].endword.append(origin)\n",
        "        # print(\"End of word\", origin)\n",
        "\n",
        "  # Iterative version of addWord. \n",
        "  def fastAdd(self, word):\n",
        "    node = self\n",
        "    maxlen = len(word)\n",
        "    i, j = 0, maxlen\n",
        "    while i < maxlen:\n",
        "      sub = word[i:j]\n",
        "      if sub in node.data:\n",
        "        #print('Moving to node:', word[i:j])\n",
        "        node = node.data[sub]\n",
        "        i, j = j, maxlen\n",
        "        continue\n",
        "      else:  \n",
        "        for el in node.data:\n",
        "          if el.startswith(sub):\n",
        "            #print('Creating new node:', word[i:j])\n",
        "            node.data[sub] = Radix()\n",
        "            #print('Patching tree with data from old element:', el)\n",
        "            node.data[sub].data[el[len(sub):]] = node.data[el]\n",
        "            del node.data[el]\n",
        "            #print('Moving to node:', word[i:j])\n",
        "            node = node.data[sub]\n",
        "            i, j = j, maxlen\n",
        "            break\n",
        "      if j > i+1:\n",
        "        j -= 1\n",
        "        continue\n",
        "      elif j == i+1:\n",
        "        # print('Adding word:', word[i:])\n",
        "        node.data[word[i:]] = Radix()\n",
        "        if word not in node.endword:\n",
        "          node.data[word[i:]].endword.append(word)\n",
        "        # print(\"End of word\", word)\n",
        "        break\n",
        "    # else:\n",
        "    if word not in node.endword:\n",
        "      node.endword.append(word)\n",
        "    # print(\"End of word\", word)\n",
        "\n",
        "\n",
        "  # Returns True if word in vocabulary, else returns None\n",
        "  def lookup(self, word, origin=\"\"):\n",
        "    if origin == \"\":\n",
        "      origin += word\n",
        "    if len(word) == 0 and origin in self.endword:\n",
        "      # print('Word found!')\n",
        "      return True\n",
        "    node = self\n",
        "    substrings = [word[:i] for i in range(len(word), 0, -1)]\n",
        "    for sub in substrings:\n",
        "      if sub in node.data:\n",
        "        # print('Found substring:', sub)\n",
        "        node = node.data[sub]\n",
        "        return node.lookup(word[len(sub):], origin)\n",
        "    # print('Word not found :(')\n",
        "    return None\n",
        "\n",
        "  # Iterative approach to lookup. Lesser overhead than recursion \n",
        "  def fastlookup(self, word):\n",
        "    # print('Got word:', word)\n",
        "    node = self\n",
        "    i, j = 0, len(word)\n",
        "    while j > i:\n",
        "      if word[i:j] in node.data:\n",
        "        node = node.data[word[i:j]]\n",
        "        # print('Substring matched:', word[i:j], i, j)\n",
        "        i = j\n",
        "        j = len(word)\n",
        "      else:\n",
        "        # print('Match failed:', word[i:j], i, j)\n",
        "        j -= 1\n",
        "    if i == len(word) and word in node.endword:\n",
        "      # print('Word found!')\n",
        "      return True\n",
        "    else:\n",
        "      # print('Word not found :(')\n",
        "      return False\n",
        "\n",
        "  # Given a word, return node at which it ends\n",
        "  def traverse(self, word):\n",
        "    node = self\n",
        "    node.count += 1\n",
        "    maxlen = len(word)\n",
        "    i, j = 0, maxlen\n",
        "    temp = ''\n",
        "    while i < maxlen and j > i:\n",
        "      sub = word[i:j]\n",
        "      try:\n",
        "        node = node.data[sub]\n",
        "        #print(word[i:j],\"->\",end=\"\")\n",
        "        node.count += 1\n",
        "        temp += sub\n",
        "        i, j = j, maxlen\n",
        "      except KeyError: \n",
        "        j -= 1\n",
        "    return node, temp\n",
        "    \n",
        " \n",
        "  # Print the entire tree recursively\n",
        "  def display(self):\n",
        "    node = self\n",
        "    if len(node.data) == 0:\n",
        "      return\n",
        "    print('Data at node:', list(node.data.keys()))\n",
        "    #print('Endings of words:',list(node.endword.keys()))\n",
        "    for el in node.data:\n",
        "      node.data[el].display()\n",
        "    return\n",
        "\n",
        "  # override [] access for convenience\n",
        "  def __getitem__(self, word):\n",
        "    return self.data[word]\n"
      ],
      "execution_count": null,
      "outputs": []
    },
    {
      "cell_type": "code",
      "metadata": {
        "id": "KCCsTkahXMme",
        "colab_type": "code",
        "colab": {}
      },
      "source": [
        "def sample(preds, temperature=1.0):\n",
        "    # helper function to sample an index from a probability array\n",
        "    preds = np.asarray(preds).astype('float64')\n",
        "    preds = np.log(preds) / temperature\n",
        "    exp_preds = np.exp(preds)\n",
        "    preds = exp_preds / np.sum(exp_preds)\n",
        "    probas = np.random.multinomial(1, preds, 1)\n",
        "    return np.argmax(probas)\n",
        "\n"
      ],
      "execution_count": null,
      "outputs": []
    },
    {
      "cell_type": "code",
      "metadata": {
        "id": "M8EC6seVytWa",
        "colab_type": "code",
        "colab": {}
      },
      "source": [
        "\n",
        "def predict(tree,word): \n",
        "  node, traversed = tree.traverse(word)\n",
        "  predicted = traversed\n",
        "  suff = word[len(traversed):]\n",
        "  total = sum((node.data[el].count for el in node.data)) \n",
        "  paths = tuple(node.data.keys())                        \n",
        "  #print(paths)\n",
        "  #print(\"Suffix:\",suff)\n",
        "  #print(\"Total traversals:\",total)\n",
        "  \n",
        "  prob = tuple(node.data[el].count/total for el in node.data)\n",
        "  temp = []\n",
        "  if len(suff) != 0:                                     \n",
        "    for el in paths:\n",
        "      if el.startswith(suff):                            \n",
        "        temp.append(el)                                  \n",
        "    if len(temp) != 0:                                   \n",
        "      paths = tuple(temp)                                 \n",
        "      prob = tuple(node.data[el].count/total for el in node.data if el in paths)\n",
        "\n",
        "  # print(paths)\n",
        "  # print(\"Total traversals:\",total)\n",
        "  # print(\"Probabilities:\",prob)\n",
        "  if len(node.data)==0:\n",
        "    return word\n",
        "  n= 1/len(node.data)\n",
        "  \n",
        "  while len(prob) != 0 and max(prob) > 0.01 and predicted not in node.endword:\n",
        "    #ind = prob.index(max(prob))\n",
        "    ind = sample(prob)\n",
        "    node = node.data[paths[ind]]\n",
        "    predicted += paths[ind]\n",
        "    #print(\"Predicted so far:\",predicted)\n",
        "    total = sum((node.data[el].count for el in node.data))\n",
        "    # print(\"Total traversals:\",total)\n",
        "    paths = tuple(node.data.keys())\n",
        "    #print(paths)\n",
        "    prob = tuple(n*node.data[el].count / total for el in node.data)\n",
        "    #print(\"Probabilities:\",prob)\n",
        "  # print(\"Final Predicted:\",predicted)\n",
        "  return predicted\n",
        "\n"
      ],
      "execution_count": null,
      "outputs": []
    },
    {
      "cell_type": "code",
      "metadata": {
        "id": "FZFeYGa8yxCv",
        "colab_type": "code",
        "colab": {}
      },
      "source": [
        "\n",
        "def nodecount(node):\n",
        "  counter = 0\n",
        "  for el in node.data:\n",
        "    counter += 1 + nodecount(node.data[el])\n",
        "  return counter\n"
      ],
      "execution_count": null,
      "outputs": []
    },
    {
      "cell_type": "code",
      "metadata": {
        "id": "rXqwIy0tNXLd",
        "colab_type": "code",
        "colab": {}
      },
      "source": [
        "corpora = smoltext  #pick the corpus"
      ],
      "execution_count": null,
      "outputs": []
    },
    {
      "cell_type": "code",
      "metadata": {
        "id": "E_9twGBwkLYW",
        "colab_type": "code",
        "colab": {
          "base_uri": "https://localhost:8080/",
          "height": 84,
          "referenced_widgets": [
            "a43b1200484744d3abcdf96e06504e72",
            "2d06e66a246643aa884392d83e9caf4d",
            "bda308708fca4c898ddded5598f24221",
            "bf90d6b56521401389ae2142c9e14151",
            "220d8c0f79a74d9fa0d5728ea66837f8",
            "287a518367644a0888b073cdb2ce9f8f",
            "0733ec49ca4c4896b66d42e93378aff2",
            "d64d05b8043c4983bf689f1d9eeac2fb"
          ]
        },
        "outputId": "9b7811b0-5c00-4d19-ae8f-21c35532b698"
      },
      "source": [
        "# rtree = makeTree(corpora)\n",
        "ftree = fastTree(corpora)"
      ],
      "execution_count": null,
      "outputs": [
        {
          "output_type": "display_data",
          "data": {
            "application/vnd.jupyter.widget-view+json": {
              "model_id": "a43b1200484744d3abcdf96e06504e72",
              "version_minor": 0,
              "version_major": 2
            },
            "text/plain": [
              "HBox(children=(IntProgress(value=0, max=5), HTML(value='')))"
            ]
          },
          "metadata": {
            "tags": []
          }
        },
        {
          "output_type": "stream",
          "text": [
            "\n",
            "Tree built with 5 words\n"
          ],
          "name": "stdout"
        }
      ]
    },
    {
      "cell_type": "code",
      "metadata": {
        "id": "sDyPo6nVfrOu",
        "colab_type": "code",
        "colab": {
          "base_uri": "https://localhost:8080/",
          "height": 52
        },
        "outputId": "cbda41aa-c4f4-491f-b4b2-1052dec10848"
      },
      "source": [
        "# Test tree methods here\n",
        "\n",
        "# Test the existence of all the words in the corpus\n",
        "def testlook(tree, corpus):\n",
        "  for word in corpus.split():\n",
        "    if not tree.fastlookup(word):\n",
        "      print('Test failed :(')\n",
        "      print('Couldn\\'t find word:', word)\n",
        "      return \n",
        "  print('Success!')\n",
        "  return \n",
        "\n",
        "# testlook(rtree, corpora)\n",
        "testlook(ftree, corpora)\n",
        "\n",
        "\n",
        "\n",
        "\n",
        "# train over some text corpus\n",
        "# train(ftree,corpora)\n",
        "\n",
        "# ftree.display()"
      ],
      "execution_count": null,
      "outputs": [
        {
          "output_type": "stream",
          "text": [
            "Success!\n",
            "Success!\n"
          ],
          "name": "stdout"
        }
      ]
    },
    {
      "cell_type": "code",
      "metadata": {
        "id": "-WfSsoK7y5P7",
        "colab_type": "code",
        "colab": {}
      },
      "source": [
        "def testraverse(tree, corpora):\n",
        "  for word in corpora.split():\n",
        "    if not tree.traverse(word):\n",
        "      print('Test failed :(')\n",
        "      print('Couldn\\'t traverse:', word)\n",
        "      return False\n",
        "  print('Success!')\n",
        "  return\n",
        "\n",
        "# testraverse(rtree, corpora)\n",
        "testraverse(ftree, corpora)"
      ],
      "execution_count": null,
      "outputs": []
    },
    {
      "cell_type": "code",
      "metadata": {
        "id": "nfs57zLd5hwG",
        "colab_type": "code",
        "colab": {
          "base_uri": "https://localhost:8080/",
          "height": 104
        },
        "outputId": "cefad36b-e96b-4195-ee38-06ae01202137"
      },
      "source": [
        "# Analyse size of data\n",
        "\n",
        "s = 0\n",
        "for word in corpora.split():\n",
        "  s += sys.getsizeof(word)\n",
        "\n",
        "print('Text corpora size:', s/1e+6, 'megabytes\\n')\n",
        "\n",
        "def analyse(tree):\n",
        "  size = get_size(tree)\n",
        "  print('Tree:', size/1e+6, 'megabytes')\n",
        "  print('Increase in size:', (size - s)/1e+6, 'megabytes\\n')\n",
        "  return size\n",
        "\n",
        "# rsize = analyse(rtree)\n",
        "fsize = analyse(ftree)\n",
        "# print('Difference:', fsize-rsize, 'bytes')"
      ],
      "execution_count": null,
      "outputs": [
        {
          "output_type": "stream",
          "text": [
            "Text corpora size: 0.000269 megabytes\n",
            "\n",
            "Tree: 0.003909 megabytes\n",
            "Increase in size: 0.00364 megabytes\n",
            "\n"
          ],
          "name": "stdout"
        }
      ]
    },
    {
      "cell_type": "code",
      "metadata": {
        "id": "AK8wOVCCAMlc",
        "colab_type": "code",
        "colab": {
          "base_uri": "https://localhost:8080/",
          "height": 35
        },
        "outputId": "a22f6bbd-7252-4345-83e8-a28c9e603368"
      },
      "source": [
        "nodecount(ftree)"
      ],
      "execution_count": null,
      "outputs": [
        {
          "output_type": "execute_result",
          "data": {
            "text/plain": [
              "7"
            ]
          },
          "metadata": {
            "tags": []
          },
          "execution_count": 22
        }
      ]
    },
    {
      "cell_type": "code",
      "metadata": {
        "id": "eEFbY0DKF9N6",
        "colab_type": "code",
        "colab": {
          "base_uri": "https://localhost:8080/",
          "height": 52
        },
        "outputId": "3a9218c6-2c58-45c5-8e17-e32c41dc94a9"
      },
      "source": [
        "\n",
        "print(smoltext)\n",
        "print('Predicted:', predict(ftree,'horro'))\n",
        "# t = ftree.traverse('horro') \n",
        "# print('horro'[len(t[1]):])"
      ],
      "execution_count": null,
      "outputs": [
        {
          "output_type": "stream",
          "text": [
            "hello hell helmet henry helm\n",
            "Predicted: horror\n"
          ],
          "name": "stdout"
        }
      ]
    },
    {
      "cell_type": "code",
      "metadata": {
        "id": "uFXfIBoJKulc",
        "colab_type": "code",
        "colab": {}
      },
      "source": [
        "def score(tree, corpora): \n",
        "  ctr = 0\n",
        "  total = 0\n",
        "  with tqdm(total=len(corpora.split())) as pbar:\n",
        "    for word in corpora.split():\n",
        "      pbar.update(1)\n",
        "      subs = [word[:i] for i in range(1,len(word))]\n",
        "      for sub in subs:\n",
        "        p = predict(ftree, sub)\n",
        "        total+=1\n",
        "        if word == p:\n",
        "          # print(sub, word)\n",
        "          ctr += 1\n",
        "\n",
        "  print('Total:', total)\n",
        "  print('Correct:', ctr)\n",
        "  print('Accuracy:', 100 * ctr/total)"
      ],
      "execution_count": null,
      "outputs": []
    },
    {
      "cell_type": "code",
      "metadata": {
        "id": "uNNlWfpVDE3W",
        "colab_type": "code",
        "colab": {
          "base_uri": "https://localhost:8080/",
          "height": 121
        },
        "outputId": "2e1ecc25-dd33-4376-89c4-746c7ca9acaa"
      },
      "source": [
        "import nltk\n",
        "nltk.download()\n",
        "\n",
        "# choose d\n",
        "# then type 'book'"
      ],
      "execution_count": null,
      "outputs": [
        {
          "output_type": "stream",
          "text": [
            "NLTK Downloader\n",
            "---------------------------------------------------------------------------\n",
            "    d) Download   l) List    u) Update   c) Config   h) Help   q) Quit\n",
            "---------------------------------------------------------------------------\n",
            "Downloader> q\n"
          ],
          "name": "stdout"
        },
        {
          "output_type": "execute_result",
          "data": {
            "text/plain": [
              "True"
            ]
          },
          "metadata": {
            "tags": []
          },
          "execution_count": 25
        }
      ]
    },
    {
      "cell_type": "code",
      "metadata": {
        "id": "6-a1u_OxGXF_",
        "colab_type": "code",
        "colab": {
          "base_uri": "https://localhost:8080/",
          "height": 465,
          "referenced_widgets": [
            "c678ee6e9a074953970470a4d80f8169",
            "842d52f660f94dc6803ca0b91accafec",
            "a5d61035764f48b8a460a48708234bdc",
            "e25c9877f5214a7893fa1ac2862e6a10",
            "c0f7d77b1aaf4d1db84eff9e6b202630",
            "b317889f944c41ec87c7b8a9405bcbe1",
            "f68f2c6b4b4049ae939cdb04c260aa60",
            "88f9b3e803b446109d7386403b022ab3"
          ]
        },
        "outputId": "dee94535-5c01-455f-d053-a36e8b0552e8"
      },
      "source": [
        "from nltk.book import *\n",
        "texts = [text1, text2, text3, text4, text5, text6, text7, text8, text9]\n",
        "\n",
        "ftree = Radix()\n",
        "\n",
        "print('Initialising tree...')\n",
        "# for text in text1:\n",
        "for word in set(text1):\n",
        "  ftree.fastAdd(word)\n",
        "\n",
        "print('Pre-training scores:')\n",
        "score(ftree, ' '.join(text1))\n",
        "\n",
        "print('\\nTraining data...')\n",
        "with tqdm(total=len(texts)) as pbar:\n",
        "  for text in texts:\n",
        "    pbar.update(1)\n",
        "    train(ftree, ' '.join(text))\n",
        "\n",
        "print('Post-training scores:')\n",
        "score(ftree, ' '.join(text1))"
      ],
      "execution_count": null,
      "outputs": [
        {
          "output_type": "stream",
          "text": [
            "Initialising tree...\n",
            "Pre-training scores:\n"
          ],
          "name": "stdout"
        },
        {
          "output_type": "display_data",
          "data": {
            "application/vnd.jupyter.widget-view+json": {
              "model_id": "c678ee6e9a074953970470a4d80f8169",
              "version_minor": 0,
              "version_major": 2
            },
            "text/plain": [
              "HBox(children=(IntProgress(value=0, max=260819), HTML(value='')))"
            ]
          },
          "metadata": {
            "tags": []
          }
        },
        {
          "output_type": "stream",
          "text": [
            "\n"
          ],
          "name": "stdout"
        },
        {
          "output_type": "error",
          "ename": "KeyboardInterrupt",
          "evalue": "ignored",
          "traceback": [
            "\u001b[0;31m---------------------------------------------------------------------------\u001b[0m",
            "\u001b[0;31mKeyboardInterrupt\u001b[0m                         Traceback (most recent call last)",
            "\u001b[0;32m<ipython-input-26-9d4e004b8039>\u001b[0m in \u001b[0;36m<module>\u001b[0;34m()\u001b[0m\n\u001b[1;32m     10\u001b[0m \u001b[0;34m\u001b[0m\u001b[0m\n\u001b[1;32m     11\u001b[0m \u001b[0mprint\u001b[0m\u001b[0;34m(\u001b[0m\u001b[0;34m'Pre-training scores:'\u001b[0m\u001b[0;34m)\u001b[0m\u001b[0;34m\u001b[0m\u001b[0;34m\u001b[0m\u001b[0m\n\u001b[0;32m---> 12\u001b[0;31m \u001b[0mscore\u001b[0m\u001b[0;34m(\u001b[0m\u001b[0mftree\u001b[0m\u001b[0;34m,\u001b[0m \u001b[0;34m' '\u001b[0m\u001b[0;34m.\u001b[0m\u001b[0mjoin\u001b[0m\u001b[0;34m(\u001b[0m\u001b[0mtext1\u001b[0m\u001b[0;34m)\u001b[0m\u001b[0;34m)\u001b[0m\u001b[0;34m\u001b[0m\u001b[0;34m\u001b[0m\u001b[0m\n\u001b[0m\u001b[1;32m     13\u001b[0m \u001b[0;34m\u001b[0m\u001b[0m\n\u001b[1;32m     14\u001b[0m \u001b[0mprint\u001b[0m\u001b[0;34m(\u001b[0m\u001b[0;34m'\\nTraining data...'\u001b[0m\u001b[0;34m)\u001b[0m\u001b[0;34m\u001b[0m\u001b[0;34m\u001b[0m\u001b[0m\n",
            "\u001b[0;32m<ipython-input-24-3fad6b9f4cbd>\u001b[0m in \u001b[0;36mscore\u001b[0;34m(tree, corpora)\u001b[0m\n\u001b[1;32m      7\u001b[0m       \u001b[0msubs\u001b[0m \u001b[0;34m=\u001b[0m \u001b[0;34m[\u001b[0m\u001b[0mword\u001b[0m\u001b[0;34m[\u001b[0m\u001b[0;34m:\u001b[0m\u001b[0mi\u001b[0m\u001b[0;34m]\u001b[0m \u001b[0;32mfor\u001b[0m \u001b[0mi\u001b[0m \u001b[0;32min\u001b[0m \u001b[0mrange\u001b[0m\u001b[0;34m(\u001b[0m\u001b[0;36m1\u001b[0m\u001b[0;34m,\u001b[0m\u001b[0mlen\u001b[0m\u001b[0;34m(\u001b[0m\u001b[0mword\u001b[0m\u001b[0;34m)\u001b[0m\u001b[0;34m)\u001b[0m\u001b[0;34m]\u001b[0m\u001b[0;34m\u001b[0m\u001b[0;34m\u001b[0m\u001b[0m\n\u001b[1;32m      8\u001b[0m       \u001b[0;32mfor\u001b[0m \u001b[0msub\u001b[0m \u001b[0;32min\u001b[0m \u001b[0msubs\u001b[0m\u001b[0;34m:\u001b[0m\u001b[0;34m\u001b[0m\u001b[0;34m\u001b[0m\u001b[0m\n\u001b[0;32m----> 9\u001b[0;31m         \u001b[0mp\u001b[0m \u001b[0;34m=\u001b[0m \u001b[0mpredict\u001b[0m\u001b[0;34m(\u001b[0m\u001b[0mftree\u001b[0m\u001b[0;34m,\u001b[0m \u001b[0msub\u001b[0m\u001b[0;34m)\u001b[0m\u001b[0;34m\u001b[0m\u001b[0;34m\u001b[0m\u001b[0m\n\u001b[0m\u001b[1;32m     10\u001b[0m         \u001b[0mtotal\u001b[0m\u001b[0;34m+=\u001b[0m\u001b[0;36m1\u001b[0m\u001b[0;34m\u001b[0m\u001b[0;34m\u001b[0m\u001b[0m\n\u001b[1;32m     11\u001b[0m         \u001b[0;32mif\u001b[0m \u001b[0mword\u001b[0m \u001b[0;34m==\u001b[0m \u001b[0mp\u001b[0m\u001b[0;34m:\u001b[0m\u001b[0;34m\u001b[0m\u001b[0;34m\u001b[0m\u001b[0m\n",
            "\u001b[0;32m<ipython-input-17-b5735681b6f6>\u001b[0m in \u001b[0;36mpredict\u001b[0;34m(tree, word)\u001b[0m\n\u001b[1;32m     12\u001b[0m \u001b[0;31m# Whew. This is one looooong function\u001b[0m\u001b[0;34m\u001b[0m\u001b[0;34m\u001b[0m\u001b[0;34m\u001b[0m\u001b[0m\n\u001b[1;32m     13\u001b[0m \u001b[0;32mdef\u001b[0m \u001b[0mpredict\u001b[0m\u001b[0;34m(\u001b[0m\u001b[0mtree\u001b[0m\u001b[0;34m,\u001b[0m\u001b[0mword\u001b[0m\u001b[0;34m)\u001b[0m\u001b[0;34m:\u001b[0m\u001b[0;34m\u001b[0m\u001b[0;34m\u001b[0m\u001b[0m\n\u001b[0;32m---> 14\u001b[0;31m   \u001b[0mnode\u001b[0m\u001b[0;34m,\u001b[0m \u001b[0mtraversed\u001b[0m \u001b[0;34m=\u001b[0m \u001b[0mtree\u001b[0m\u001b[0;34m.\u001b[0m\u001b[0mtraverse\u001b[0m\u001b[0;34m(\u001b[0m\u001b[0mword\u001b[0m\u001b[0;34m)\u001b[0m\u001b[0;34m\u001b[0m\u001b[0;34m\u001b[0m\u001b[0m\n\u001b[0m\u001b[1;32m     15\u001b[0m   \u001b[0mpredicted\u001b[0m \u001b[0;34m=\u001b[0m \u001b[0mtraversed\u001b[0m\u001b[0;34m\u001b[0m\u001b[0;34m\u001b[0m\u001b[0m\n\u001b[1;32m     16\u001b[0m   \u001b[0msuff\u001b[0m \u001b[0;34m=\u001b[0m \u001b[0mword\u001b[0m\u001b[0;34m[\u001b[0m\u001b[0mlen\u001b[0m\u001b[0;34m(\u001b[0m\u001b[0mtraversed\u001b[0m\u001b[0;34m)\u001b[0m\u001b[0;34m:\u001b[0m\u001b[0;34m]\u001b[0m\u001b[0;34m\u001b[0m\u001b[0;34m\u001b[0m\u001b[0m\n",
            "\u001b[0;32m<ipython-input-16-0e8ca6c4cd14>\u001b[0m in \u001b[0;36mtraverse\u001b[0;34m(self, word)\u001b[0m\n\u001b[1;32m    131\u001b[0m       \u001b[0msub\u001b[0m \u001b[0;34m=\u001b[0m \u001b[0mword\u001b[0m\u001b[0;34m[\u001b[0m\u001b[0mi\u001b[0m\u001b[0;34m:\u001b[0m\u001b[0mj\u001b[0m\u001b[0;34m]\u001b[0m\u001b[0;34m\u001b[0m\u001b[0;34m\u001b[0m\u001b[0m\n\u001b[1;32m    132\u001b[0m       \u001b[0;32mtry\u001b[0m\u001b[0;34m:\u001b[0m\u001b[0;34m\u001b[0m\u001b[0;34m\u001b[0m\u001b[0m\n\u001b[0;32m--> 133\u001b[0;31m         \u001b[0mnode\u001b[0m \u001b[0;34m=\u001b[0m \u001b[0mnode\u001b[0m\u001b[0;34m.\u001b[0m\u001b[0mdata\u001b[0m\u001b[0;34m[\u001b[0m\u001b[0msub\u001b[0m\u001b[0;34m]\u001b[0m\u001b[0;34m\u001b[0m\u001b[0;34m\u001b[0m\u001b[0m\n\u001b[0m\u001b[1;32m    134\u001b[0m         \u001b[0;31m#print(word[i:j],\"->\",end=\"\")\u001b[0m\u001b[0;34m\u001b[0m\u001b[0;34m\u001b[0m\u001b[0;34m\u001b[0m\u001b[0m\n\u001b[1;32m    135\u001b[0m         \u001b[0mnode\u001b[0m\u001b[0;34m.\u001b[0m\u001b[0mcount\u001b[0m \u001b[0;34m+=\u001b[0m \u001b[0;36m1\u001b[0m\u001b[0;34m\u001b[0m\u001b[0;34m\u001b[0m\u001b[0m\n",
            "\u001b[0;31mKeyboardInterrupt\u001b[0m: "
          ]
        }
      ]
    },
    {
      "cell_type": "code",
      "metadata": {
        "id": "e_6IwDLA0CCN",
        "colab_type": "code",
        "colab": {}
      },
      "source": [
        "# Adapted from Justin Peel's implementation:\n",
        "# https://stackoverflow.com/a/2412468/8986124\n",
        "\n",
        "class Patricia():\n",
        "    def __init__(self):\n",
        "        self._data = {}\n",
        "\n",
        "    def addWord(self, word):\n",
        "        data = self._data\n",
        "        i = 0\n",
        "        while 1:\n",
        "            try:\n",
        "                node = data[word[i:i+1]]\n",
        "            except KeyError:\n",
        "                if data:\n",
        "                    data[word[i:i+1]] = [word[i+1:],{}]\n",
        "                else:\n",
        "                    if word[i:i+1] == '':\n",
        "                        return\n",
        "                    else:\n",
        "                        if i != 0:\n",
        "                            data[''] = ['',{}]\n",
        "                        data[word[i:i+1]] = [word[i+1:],{}]\n",
        "                return\n",
        "\n",
        "            i += 1\n",
        "            if word.startswith(node[0],i):\n",
        "                if len(word[i:]) == len(node[0]):\n",
        "                    if node[1]:\n",
        "                        try:\n",
        "                            node[1]['']\n",
        "                        except KeyError:\n",
        "                            data = node[1]\n",
        "                            data[''] = ['',{}]\n",
        "                    return\n",
        "                else:\n",
        "                    i += len(node[0])\n",
        "                    data = node[1]\n",
        "            else:\n",
        "                ii = i\n",
        "                j = 0\n",
        "                while ii != len(word) and j != len(node[0]) and \\\n",
        "                      word[ii:ii+1] == node[0][j:j+1]:\n",
        "                    ii += 1\n",
        "                    j += 1\n",
        "                tmpdata = {}\n",
        "                tmpdata[node[0][j:j+1]] = [node[0][j+1:],node[1]]\n",
        "                tmpdata[word[ii:ii+1]] = [word[ii+1:],{}]\n",
        "                data[word[i-1:i]] = [node[0][:j],tmpdata]\n",
        "                return\n",
        "\n",
        "    def isWord(self,word):\n",
        "        data = self._data\n",
        "        i = 0\n",
        "        while 1:\n",
        "            try:\n",
        "                node = data[word[i:i+1]]\n",
        "            except KeyError:\n",
        "                return False\n",
        "            i += 1\n",
        "            if word.startswith(node[0],i):\n",
        "                if len(word[i:]) == len(node[0]):\n",
        "                    if node[1]:\n",
        "                        try:\n",
        "                            node[1]['']\n",
        "                        except KeyError:\n",
        "                            return False\n",
        "                    return True\n",
        "                else:\n",
        "                    i += len(node[0])\n",
        "                    data = node[1]\n",
        "            else:\n",
        "                return False\n",
        "\n",
        "    def isPrefix(self,word):\n",
        "        data = self._data\n",
        "        i = 0\n",
        "        wordlen = len(word)\n",
        "        while 1:\n",
        "            try:\n",
        "                node = data[word[i:i+1]]\n",
        "            except KeyError:\n",
        "                return False\n",
        "            i += 1\n",
        "            if word.startswith(node[0][:wordlen-i],i):\n",
        "                if wordlen - i > len(node[0]):\n",
        "                    i += len(node[0])\n",
        "                    data = node[1]\n",
        "                else:\n",
        "                    return True\n",
        "            else:\n",
        "                return False\n",
        "\n",
        "    def removeWord(self,word):\n",
        "        data = self._data\n",
        "        i = 0\n",
        "        while 1:\n",
        "            try:\n",
        "                node = data[word[i:i+1]]\n",
        "            except KeyError:\n",
        "                print (\"Word is not in trie.\")\n",
        "                return\n",
        "            i += 1\n",
        "            if word.startswith(node[0],i):\n",
        "                if len(word[i:]) == len(node[0]):\n",
        "                    if node[1]:\n",
        "                        try:\n",
        "                            node[1]['']\n",
        "                            node[1].pop('')\n",
        "                        except KeyError:\n",
        "                            print (\"Word is not in trie.\")\n",
        "                        return\n",
        "                    data.pop(word[i-1:i])\n",
        "                    return\n",
        "                else:\n",
        "                    i += len(node[0])\n",
        "                    data = node[1]\n",
        "            else:\n",
        "                print (\"Word is not in trie.\")\n",
        "                return\n",
        "\n",
        "    __getitem__ = isWord"
      ],
      "execution_count": null,
      "outputs": []
    },
    {
      "cell_type": "code",
      "metadata": {
        "id": "6UpHAbkXcrp-",
        "colab_type": "code",
        "colab": {}
      },
      "source": [
        "def makePatricia(text):\n",
        "  words = text.split()\n",
        "  tree = Patricia()\n",
        "  with tqdm(total=len(words)) as pbar:\n",
        "    for word in words:\n",
        "      tree.addWord(word)\n",
        "      pbar.update(1)\n",
        "  print('Tree built with {} words'.format(len(words)))\n",
        "  return tree\n",
        "\n",
        "x = makePatricia(corpora)\n",
        "psize = get_size(x)/1e+6\n",
        "print(psize, 'megabytes')\n",
        "x._data"
      ],
      "execution_count": null,
      "outputs": []
    }
  ]
}