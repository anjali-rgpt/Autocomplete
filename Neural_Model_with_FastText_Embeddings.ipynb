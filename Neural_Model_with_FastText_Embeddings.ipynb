{
  "nbformat": 4,
  "nbformat_minor": 0,
  "metadata": {
    "colab": {
      "name": "Neural Model with FastText Embeddings.ipynb",
      "provenance": [],
      "collapsed_sections": [],
      "machine_shape": "hm",
      "include_colab_link": true
    },
    "kernelspec": {
      "name": "python3",
      "display_name": "Python 3"
    },
    "accelerator": "GPU"
  },
  "cells": [
    {
      "cell_type": "markdown",
      "metadata": {
        "id": "view-in-github",
        "colab_type": "text"
      },
      "source": [
        "<a href=\"https://colab.research.google.com/github/anjali-rgpt/Autocomplete/blob/master/Neural_Model_with_FastText_Embeddings.ipynb\" target=\"_parent\"><img src=\"https://colab.research.google.com/assets/colab-badge.svg\" alt=\"Open In Colab\"/></a>"
      ]
    },
    {
      "cell_type": "code",
      "metadata": {
        "id": "HgwjQqZ1Yylg",
        "colab_type": "code",
        "colab": {}
      },
      "source": [
        "# Import necessary libraries\n",
        "\n",
        "%tensorflow_version 2.x\n",
        "import tensorflow as tf\n",
        "import numpy as np"
      ],
      "execution_count": 1,
      "outputs": []
    },
    {
      "cell_type": "code",
      "metadata": {
        "id": "ONgVWCpCQm6p",
        "colab_type": "code",
        "colab": {
          "base_uri": "https://localhost:8080/",
          "height": 67
        },
        "outputId": "91c96606-de71-43b5-fe7f-10bc74108bc3"
      },
      "source": [
        "import nltk\n",
        "from nltk.tokenize import word_tokenize\n",
        "nltk.download('punkt')"
      ],
      "execution_count": 2,
      "outputs": [
        {
          "output_type": "stream",
          "text": [
            "[nltk_data] Downloading package punkt to /root/nltk_data...\n",
            "[nltk_data]   Unzipping tokenizers/punkt.zip.\n"
          ],
          "name": "stdout"
        },
        {
          "output_type": "execute_result",
          "data": {
            "text/plain": [
              "True"
            ]
          },
          "metadata": {
            "tags": []
          },
          "execution_count": 2
        }
      ]
    },
    {
      "cell_type": "code",
      "metadata": {
        "id": "I62rsGSki02o",
        "colab_type": "code",
        "colab": {
          "base_uri": "https://localhost:8080/",
          "height": 336
        },
        "outputId": "61c1ad98-d955-4d26-c659-fa11eb99365d"
      },
      "source": [
        "\n",
        "!git clone https://github.com/facebookresearch/fastText.git\n",
        "%cd fastText\n",
        "!sudo pip install .\n",
        "\n",
        "import fasttext"
      ],
      "execution_count": 3,
      "outputs": [
        {
          "output_type": "stream",
          "text": [
            "Cloning into 'fastText'...\n",
            "remote: Enumerating objects: 14, done.\u001b[K\n",
            "remote: Counting objects:   7% (1/14)\u001b[K\rremote: Counting objects:  14% (2/14)\u001b[K\rremote: Counting objects:  21% (3/14)\u001b[K\rremote: Counting objects:  28% (4/14)\u001b[K\rremote: Counting objects:  35% (5/14)\u001b[K\rremote: Counting objects:  42% (6/14)\u001b[K\rremote: Counting objects:  50% (7/14)\u001b[K\rremote: Counting objects:  57% (8/14)\u001b[K\rremote: Counting objects:  64% (9/14)\u001b[K\rremote: Counting objects:  71% (10/14)\u001b[K\rremote: Counting objects:  78% (11/14)\u001b[K\rremote: Counting objects:  85% (12/14)\u001b[K\rremote: Counting objects:  92% (13/14)\u001b[K\rremote: Counting objects: 100% (14/14)\u001b[K\rremote: Counting objects: 100% (14/14), done.\u001b[K\n",
            "remote: Compressing objects: 100% (10/10), done.\u001b[K\n",
            "remote: Total 3854 (delta 1), reused 7 (delta 1), pack-reused 3840\u001b[K\n",
            "Receiving objects: 100% (3854/3854), 8.22 MiB | 10.33 MiB/s, done.\n",
            "Resolving deltas: 100% (2414/2414), done.\n",
            "/content/fastText\n",
            "Processing /content/fastText\n",
            "Requirement already satisfied: pybind11>=2.2 in /usr/local/lib/python3.6/dist-packages (from fasttext==0.9.2) (2.5.0)\n",
            "Requirement already satisfied: setuptools>=0.7.0 in /usr/local/lib/python3.6/dist-packages (from fasttext==0.9.2) (49.1.0)\n",
            "Requirement already satisfied: numpy in /usr/local/lib/python3.6/dist-packages (from fasttext==0.9.2) (1.18.5)\n",
            "Building wheels for collected packages: fasttext\n",
            "  Building wheel for fasttext (setup.py) ... \u001b[?25l\u001b[?25hdone\n",
            "  Created wheel for fasttext: filename=fasttext-0.9.2-cp36-cp36m-linux_x86_64.whl size=3009801 sha256=adb48243e7a46bb5d432ad845d42d7b2f202cccc840c595826ba71d41ba23844\n",
            "  Stored in directory: /tmp/pip-ephem-wheel-cache-o77kf_p_/wheels/a1/9f/52/696ce6c5c46325e840c76614ee5051458c0df10306987e7443\n",
            "Successfully built fasttext\n",
            "Installing collected packages: fasttext\n",
            "Successfully installed fasttext-0.9.2\n"
          ],
          "name": "stdout"
        }
      ]
    },
    {
      "cell_type": "code",
      "metadata": {
        "id": "tAVSrWfhaO0h",
        "colab_type": "code",
        "colab": {
          "base_uri": "https://localhost:8080/",
          "height": 101
        },
        "outputId": "2f05092c-1311-44b5-d30f-5c03abb03163"
      },
      "source": [
        "# Import dataset\n",
        "\n",
        "brown = tf.keras.utils.get_file('brown.txt','http://www.sls.hawaii.edu/bley-vroman/brown.txt')\n",
        "shake = tf.keras.utils.get_file('shakespeare.txt', 'https://storage.googleapis.com/download.tensorflow.org/data/shakespeare.txt')\n",
        "path_to_file = shake\n",
        "text = open(path_to_file, 'rb').read().decode(encoding='utf-8')\n",
        "\n",
        "print('Text loaded!')\n",
        "\n",
        "\n",
        "\n"
      ],
      "execution_count": 4,
      "outputs": [
        {
          "output_type": "stream",
          "text": [
            "Downloading data from http://www.sls.hawaii.edu/bley-vroman/brown.txt\n",
            "6193152/6185606 [==============================] - 2s 0us/step\n",
            "Downloading data from https://storage.googleapis.com/download.tensorflow.org/data/shakespeare.txt\n",
            "1122304/1115394 [==============================] - 0s 0us/step\n",
            "Text loaded!\n"
          ],
          "name": "stdout"
        }
      ]
    },
    {
      "cell_type": "code",
      "metadata": {
        "id": "yRHCB9nfvK3V",
        "colab_type": "code",
        "colab": {}
      },
      "source": [
        "# Model parameters\n",
        "\n",
        "chars = list(set(text))\n",
        "words = list(set(word_tokenize(text)))\n",
        "tokens = word_tokenize(text)\n",
        "\n",
        "smol_tokens = list(set(tokens))\n",
        "\n",
        "dim = 100\n",
        "epochs = 20"
      ],
      "execution_count": 5,
      "outputs": []
    },
    {
      "cell_type": "code",
      "metadata": {
        "id": "iGV7e3LNvM60",
        "colab_type": "code",
        "colab": {
          "base_uri": "https://localhost:8080/",
          "height": 34
        },
        "outputId": "58e15bb1-1758-4ffa-d5a1-9717a67ebfd7"
      },
      "source": [
        "# Use FastText to train word embeddings\n",
        "vecs = fasttext.train_unsupervised(path_to_file, dim=dim)\n",
        "print('Vectors generated!')"
      ],
      "execution_count": 6,
      "outputs": [
        {
          "output_type": "stream",
          "text": [
            "Vectors generated!\n"
          ],
          "name": "stdout"
        }
      ]
    },
    {
      "cell_type": "code",
      "metadata": {
        "id": "juCGJ9bFo4Ct",
        "colab_type": "code",
        "colab": {}
      },
      "source": [
        "# Encode text data into vectors\n",
        "\n",
        "# encdata = np.asarray([vecs[word] for word in tokens])\n",
        "# small_encdata = np.asarray([vecs[word] for word in smol_tokens])\n",
        "encdata = tf.keras.utils.normalize(np.asarray([vecs[word] for word in tokens]))\n",
        "# print('Text encoded and normalized!')"
      ],
      "execution_count": 7,
      "outputs": []
    },
    {
      "cell_type": "code",
      "metadata": {
        "id": "ZPJvIURQtGeI",
        "colab_type": "code",
        "colab": {}
      },
      "source": [
        "# Slice encdata into sentences and targets\n",
        "\n",
        "maxlen = 40\n",
        "step = 3\n",
        "\n",
        "sentences, targets = [], []\n",
        "for i in range(0, len(encdata) - maxlen, step):\n",
        "  sentences.append(encdata[i: i + maxlen])\n",
        "  targets.append(encdata[i + maxlen])"
      ],
      "execution_count": 8,
      "outputs": []
    },
    {
      "cell_type": "code",
      "metadata": {
        "id": "IytIjWes_316",
        "colab_type": "code",
        "colab": {}
      },
      "source": [
        "# Convert to numpy arrays\n",
        "\n",
        "X = np.asarray(sentences)\n",
        "y = np.asarray(targets)\n",
        "\n",
        "split = len(sentences)*70\n",
        "split = split//100"
      ],
      "execution_count": 9,
      "outputs": []
    },
    {
      "cell_type": "code",
      "metadata": {
        "id": "vqBVrZIJvwtz",
        "colab_type": "code",
        "colab": {}
      },
      "source": [
        "# Split into training and test (70-30)\n",
        "\n",
        "X_train, X_test, y_train, y_test = X[:split], X[split:], y[:split], y[split:]"
      ],
      "execution_count": 10,
      "outputs": []
    },
    {
      "cell_type": "code",
      "metadata": {
        "id": "r7ZdVidlpZVp",
        "colab_type": "code",
        "colab": {
          "base_uri": "https://localhost:8080/",
          "height": 302
        },
        "outputId": "7a416451-a7bb-40e7-a2cb-e9dc686b693a"
      },
      "source": [
        "# Build model\n",
        "\n",
        "print('Building model...')\n",
        "model = tf.keras.models.Sequential([\n",
        "    tf.keras.layers.GRU(128, input_shape=(maxlen, dim)),\n",
        "    tf.keras.layers.Dense(128),\n",
        "    tf.keras.layers.Dense(128),\n",
        "    tf.keras.layers.Dense(dim)\n",
        "])\n",
        "\n",
        "# Compile model\n",
        "\n",
        "model.compile(loss=tf.keras.losses.CosineSimilarity(axis=1), optimizer='adam', metrics=['mae', 'mse'])\n",
        "model.summary()"
      ],
      "execution_count": 11,
      "outputs": [
        {
          "output_type": "stream",
          "text": [
            "Building model...\n",
            "Model: \"sequential\"\n",
            "_________________________________________________________________\n",
            "Layer (type)                 Output Shape              Param #   \n",
            "=================================================================\n",
            "gru (GRU)                    (None, 128)               88320     \n",
            "_________________________________________________________________\n",
            "dense (Dense)                (None, 128)               16512     \n",
            "_________________________________________________________________\n",
            "dense_1 (Dense)              (None, 128)               16512     \n",
            "_________________________________________________________________\n",
            "dense_2 (Dense)              (None, 100)               12900     \n",
            "=================================================================\n",
            "Total params: 134,244\n",
            "Trainable params: 134,244\n",
            "Non-trainable params: 0\n",
            "_________________________________________________________________\n"
          ],
          "name": "stdout"
        }
      ]
    },
    {
      "cell_type": "code",
      "metadata": {
        "id": "Y3LaovZ0lpD1",
        "colab_type": "code",
        "colab": {
          "base_uri": "https://localhost:8080/",
          "height": 50
        },
        "outputId": "ebbdc400-0ac7-4ff4-fe17-09466d0b708e"
      },
      "source": [
        "print(X_train.shape)\n",
        "print(y_train.shape)"
      ],
      "execution_count": 12,
      "outputs": [
        {
          "output_type": "stream",
          "text": [
            "(59369, 40, 100)\n",
            "(59369, 100)\n"
          ],
          "name": "stdout"
        }
      ]
    },
    {
      "cell_type": "code",
      "metadata": {
        "id": "eZYVTvDIui29",
        "colab_type": "code",
        "colab": {
          "base_uri": "https://localhost:8080/",
          "height": 386
        },
        "outputId": "d68d26b4-e061-4300-f868-e8ebc129c84c"
      },
      "source": [
        "model.fit(X_train, y_train, epochs=20) \n"
      ],
      "execution_count": null,
      "outputs": [
        {
          "output_type": "stream",
          "text": [
            "Epoch 1/20\n",
            "1856/1856 [==============================] - 8s 5ms/step - loss: -0.8206 - mae: 0.4452 - mse: 0.3324\n",
            "Epoch 2/20\n",
            "1856/1856 [==============================] - 8s 4ms/step - loss: -0.8249 - mae: 0.9326 - mse: 1.5061\n",
            "Epoch 3/20\n",
            "1856/1856 [==============================] - 8s 4ms/step - loss: -0.8263 - mae: 1.7525 - mse: 5.1468\n",
            "Epoch 4/20\n",
            "1856/1856 [==============================] - 8s 4ms/step - loss: -0.8272 - mae: 2.8653 - mse: 13.5408\n",
            "Epoch 5/20\n",
            "1856/1856 [==============================] - 8s 4ms/step - loss: -0.8282 - mae: 3.9042 - mse: 25.7969\n",
            "Epoch 6/20\n",
            "1856/1856 [==============================] - 8s 4ms/step - loss: -0.8289 - mae: 5.3721 - mse: 48.5492\n",
            "Epoch 7/20\n",
            "1856/1856 [==============================] - 8s 5ms/step - loss: -0.8296 - mae: 7.0126 - mse: 83.6904\n",
            "Epoch 8/20\n",
            "1856/1856 [==============================] - 8s 4ms/step - loss: -0.8301 - mae: 9.1685 - mse: 144.2391\n",
            "Epoch 9/20\n",
            "1856/1856 [==============================] - 8s 5ms/step - loss: -0.8307 - mae: 11.2359 - mse: 217.9685\n",
            "Epoch 10/20\n",
            "1856/1856 [==============================] - 8s 5ms/step - loss: -0.8311 - mae: 13.5704 - mse: 321.9309\n",
            "Epoch 11/20\n",
            " 475/1856 [======>.......................] - ETA: 6s - loss: -0.8323 - mae: 15.8244 - mse: 441.8984"
          ],
          "name": "stdout"
        }
      ]
    },
    {
      "cell_type": "code",
      "metadata": {
        "id": "rIn6Kg4nax3h",
        "colab_type": "code",
        "colab": {}
      },
      "source": [
        "model.evaluate(X_test, y_test)"
      ],
      "execution_count": null,
      "outputs": []
    },
    {
      "cell_type": "code",
      "metadata": {
        "id": "uEowknTW4rxJ",
        "colab_type": "code",
        "colab": {}
      },
      "source": [
        "from sklearn.neighbors import KNeighborsClassifier\n",
        "neigh = KNeighborsClassifier(n_neighbors=10)"
      ],
      "execution_count": null,
      "outputs": []
    },
    {
      "cell_type": "code",
      "metadata": {
        "id": "Ks8ZFZst9UdY",
        "colab_type": "code",
        "colab": {}
      },
      "source": [
        "neigh.fit(encdata, tokens)"
      ],
      "execution_count": null,
      "outputs": []
    },
    {
      "cell_type": "code",
      "metadata": {
        "id": "XbcNdkZGBAv3",
        "colab_type": "code",
        "colab": {}
      },
      "source": [
        "import random\n",
        "# helper function to sample an index from a probability array\n",
        "def sample(preds, temperature=1.0):\n",
        "    preds = np.asarray(preds).astype('float64')\n",
        "    preds = np.log(preds) / temperature\n",
        "    exp_preds = np.exp(preds)\n",
        "    preds = exp_preds / np.sum(exp_preds)\n",
        "    probas = np.random.multinomial(1, preds, 1)\n",
        "    return np.argmax(probas)\n"
      ],
      "execution_count": null,
      "outputs": []
    },
    {
      "cell_type": "code",
      "metadata": {
        "id": "o9NDh33xvira",
        "colab_type": "code",
        "colab": {}
      },
      "source": [
        "# Generates a random seed from given text\n",
        "def seeder(tokens):\n",
        "  x = random.randint(0,len(tokens)-maxlen)\n",
        "  seed = tokens[x:x+maxlen]\n",
        "  return seed\n",
        "\n"
      ],
      "execution_count": null,
      "outputs": []
    },
    {
      "cell_type": "code",
      "metadata": {
        "id": "1YlpCaf1vkMF",
        "colab_type": "code",
        "colab": {}
      },
      "source": [
        "# takes in tokens, return encoded next word\n",
        "def encoder(seed):\n",
        "  # e = np.asarray([vecs[s] for s in seed])\n",
        "  e = tf.keras.utils.normalize(np.asarray([vecs[s] for s in seed]))\n",
        "  e = e.reshape((1,maxlen,dim))\n",
        "  # print(e, '\\n')\n",
        "  return model.predict(e)\n",
        "\n"
      ],
      "execution_count": null,
      "outputs": []
    },
    {
      "cell_type": "code",
      "metadata": {
        "id": "JyLr5rtXvmJs",
        "colab_type": "code",
        "colab": {}
      },
      "source": [
        "# generate n next tokens\n",
        "def predicter(seed, n=10):\n",
        "  out = seed\n",
        "  for i in range(n):\n",
        "    e = encoder(seed)\n",
        "    d = neigh.predict(e)[0]\n",
        "    out.append(d)\n",
        "    seed = out[-maxlen:]\n",
        "  print(' '.join(out))\n"
      ],
      "execution_count": null,
      "outputs": []
    },
    {
      "cell_type": "code",
      "metadata": {
        "id": "qHAt3gRdvqPz",
        "colab_type": "code",
        "colab": {}
      },
      "source": [
        "seed = seeder(tokens)\n",
        "print(' '.join(seed))\n",
        "\n",
        "predicter(seed, 100)"
      ],
      "execution_count": null,
      "outputs": []
    },
    {
      "cell_type": "code",
      "metadata": {
        "id": "5PBZvDhZ1H_G",
        "colab_type": "code",
        "colab": {
          "base_uri": "https://localhost:8080/",
          "height": 466
        },
        "outputId": "489d914f-5a45-4743-9f97-7ef8f99efe52"
      },
      "source": [
        "from tensorflow.keras.utils import plot_model\n",
        "plot_model(model, to_file='fasttextmodel.png')"
      ],
      "execution_count": null,
      "outputs": [
        {
          "output_type": "execute_result",
          "data": {
            "image/png": "[encoded data removed]",
            "text/plain": [
              "<IPython.core.display.Image object>"
            ]
          },
          "metadata": {
            "tags": []
          },
          "execution_count": 20
        }
      ]
    },
    {
      "cell_type": "code",
      "metadata": {
        "id": "4pgOFZeavsps",
        "colab_type": "code",
        "colab": {}
      },
      "source": [
        ""
      ],
      "execution_count": null,
      "outputs": []
    }
  ]
}