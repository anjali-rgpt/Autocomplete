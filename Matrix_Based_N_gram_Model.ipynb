{
  "nbformat": 4,
  "nbformat_minor": 0,
  "metadata": {
    "colab": {
      "name": "Matrix-Based N-gram Model.ipynb",
      "provenance": [],
      "collapsed_sections": [],
      "include_colab_link": true
    },
    "kernelspec": {
      "name": "python3",
      "display_name": "Python 3"
    }
  },
  "cells": [
    {
      "cell_type": "markdown",
      "metadata": {
        "id": "view-in-github",
        "colab_type": "text"
      },
      "source": [
        "<a href=\"https://colab.research.google.com/github/anjali-rgpt/Autocomplete/blob/master/Matrix_Based_N_gram_Model.ipynb\" target=\"_parent\"><img src=\"https://colab.research.google.com/assets/colab-badge.svg\" alt=\"Open In Colab\"/></a>"
      ]
    },
    {
      "cell_type": "code",
      "metadata": {
        "id": "MsFv7CjE0q-D",
        "colab_type": "code",
        "colab": {}
      },
      "source": [
        "# import the necessary libraries\n",
        "\n",
        "import math\n",
        "import numpy as np\n",
        "import requests\n",
        "import time"
      ],
      "execution_count": null,
      "outputs": []
    },
    {
      "cell_type": "code",
      "metadata": {
        "id": "U8G4A7ax1S6r",
        "colab_type": "code",
        "colab": {}
      },
      "source": [
        "# download and read the shakespeare dataset\n",
        "\n",
        "path = 'https://storage.googleapis.com/download.tensorflow.org/data/shakespeare.txt'\n",
        "r = requests.get(path)\n",
        "text = r.text"
      ],
      "execution_count": null,
      "outputs": []
    },
    {
      "cell_type": "code",
      "metadata": {
        "id": "xeGZ3iuOie6j",
        "colab_type": "code",
        "colab": {}
      },
      "source": [
        "# generate n arrays of frequency matrices\n",
        "\n",
        "def matrix_builder(text, window):  #the function takes as input the text to be trained on, and a window size i.e the N in an N-gram\n",
        "  print(\"Generating matrices for text: \", text[:10], '...')\n",
        "  matrix = []\n",
        "  target_encoder, target_decoder = {}, {}      #the encoder and decoder are initialized\n",
        "\n",
        "  print(\"Building target encoder...\")\n",
        "  for i, char in enumerate(set(text)):         #generate a character to index mapping for all the unique letters in text\n",
        "    target_encoder[char] = i\n",
        "    target_decoder[i] = char\n",
        "\n",
        "  print(\"Building matrices...\")                #create N layers\n",
        "  for layer in range(window):\n",
        "    targets = []\n",
        "\n",
        "    for i in range(len(text)-layer-1):        # append the target character to be predicted for that given sequence of words in the window\n",
        "      targets.append(text[i+layer+1])\n",
        "    \n",
        "    encoder, decoder, dlist = n_look(text, layer, True)           #for each layer, return the encoder, decoder and the n-gram list\n",
        "    temp_matrix = np.zeros( (len(encoder), len(target_encoder)) )  #create a matrix of zeroes so that relationships between the encoded value and the target value can be represented\n",
        "      \n",
        "    for index, el in enumerate(dlist):   #for each n-gram in the list\n",
        "      phrase = encoder[el]               # store the index for that n-gram\n",
        "      target = target_encoder[targets[index]]    #get the target value for that index\n",
        "      temp_matrix[phrase][target] += 1\n",
        "    \n",
        "    matrix.append(temp_matrix)\n",
        "    print(\"Built layer\", layer)\n",
        "  \n",
        "  matrix = np.asarray(matrix)\n",
        "  print(\"Generation complete!\\n\")\n",
        "  return matrix\n",
        "\n",
        "\n",
        "\n"
      ],
      "execution_count": null,
      "outputs": []
    },
    {
      "cell_type": "code",
      "metadata": {
        "id": "SDORfMySniH9",
        "colab_type": "code",
        "colab": {}
      },
      "source": [
        "# create encoder, decoder for nth layer\n",
        "def n_look(text, layer, flag=False):\n",
        "  # encoder, decoder = {}, {}\n",
        "  dlist = []\n",
        "\n",
        "  for i in range(len(text)-layer-1):   # create the n-gram\n",
        "    dlist.append(text[i:i+layer+1])\n",
        "    \n",
        "  encoder = dict((c, i) for i, c in enumerate(set(dlist)))  #map character to index\n",
        "  decoder = dict((i, c) for i, c in enumerate(set(dlist)))  #map index to character\n",
        "\n",
        "  if flag:\n",
        "    return encoder, decoder, dlist\n",
        "  else:\n",
        "    return encoder, decoder\n"
      ],
      "execution_count": null,
      "outputs": []
    },
    {
      "cell_type": "code",
      "metadata": {
        "id": "Ndd5qI5anjA-",
        "colab_type": "code",
        "colab": {}
      },
      "source": [
        "# test nth layer\n",
        "def n_test(matrix, seed, layer=0, length=50):        #get a specific layer\n",
        "  frame = matrix[layer]\n",
        "  encoder, decoder = n_look(text, layer)             # create encoder and decoder\n",
        "  seed = encoder[seed[-(layer+1):]]                  # get the encoded representation of the seed\n",
        "  gen = ''\n",
        "  for i in range(length):\n",
        "    gen += decoder[seed]                             #decode the value of the seed\n",
        "    seed = frame[encoder[gen[-(layer+1):]]].argmax()  # move the window\n",
        "  # print(gen)\n",
        "  return gen\n"
      ],
      "execution_count": null,
      "outputs": []
    },
    {
      "cell_type": "code",
      "metadata": {
        "id": "QrzUipe4-K2g",
        "colab_type": "code",
        "colab": {}
      },
      "source": [
        "def analyse(model, window):\n",
        "  print('Analysing model...')\n",
        "  start = time.time()\n",
        "\n",
        "  # generate accuracy frequency table for each layer\n",
        "  weights = [0 for i in range(window)]\n",
        "\n",
        "  for layer in range(window):\n",
        "    print(\"Working on layer:\", layer)\n",
        "    ctr = 0\n",
        "    targets = []\n",
        "    frame = model[layer]\n",
        "    encoder, decoder = n_look(text, layer)\n",
        "    for ptr in range(len(text)-layer-1):\n",
        "      given = text[ptr:ptr+layer+1]\n",
        "      pred = decoder[frame[encoder[given]].argmax()]\n",
        "      ctr+=1\n",
        "      \n",
        "      if text[ptr+layer] == pred:\n",
        "        weights[layer]+=1\n",
        "\n",
        "  print(\"Final weights:\", weights)\n",
        "  print(sum(weights), 'correct out of', ctr, 'predictions.')\n",
        "  print('Accuracy:', (sum(weights)/ctr)*100, '%')\n",
        "  end = time.time()\n",
        "  print('Time taken:', end - start)"
      ],
      "execution_count": null,
      "outputs": []
    },
    {
      "cell_type": "code",
      "metadata": {
        "id": "mq7oDbY9efpP",
        "colab_type": "code",
        "colab": {}
      },
      "source": [
        "# cycle model text gen\n",
        "\n",
        "def generate(matrix, window, gen, length=100):\n",
        "  i = 0\n",
        "  print('\\nGenerating with seed:', gen)\n",
        "  # for w layers, create lookups\n",
        "  encoders, decoders = {}, {}\n",
        "  for layer in (range(window)):\n",
        "    encoders[layer], decoders[layer] = n_look(text, layer)\n",
        "  # generation\n",
        "  errors = 0\n",
        "  while len(gen) <= length and errors<=window:\n",
        "    layer = i%window\n",
        "    frame = matrix[layer]\n",
        "    try:\n",
        "      pred = decoders[layer][frame[encoders[layer][gen[-(layer+1):]]].argmax()]\n",
        "    except KeyError:\n",
        "      errors+=1\n",
        "      i+=1\n",
        "      continue\n",
        "    gen += pred\n",
        "    errors = 0\n",
        "    i+=1\n",
        "  if errors == window:\n",
        "    print('Model failed')\n",
        "  return gen"
      ],
      "execution_count": null,
      "outputs": []
    },
    {
      "cell_type": "code",
      "metadata": {
        "id": "kwkXBkCjn0L6",
        "colab_type": "code",
        "colab": {}
      },
      "source": [
        "def driver(text, window):\n",
        "  model = matrix_builder(text, window)\n",
        "  analyse(model, window)\n",
        "  out = generate(model, window, text[:window])\n",
        "  print(out)"
      ],
      "execution_count": null,
      "outputs": []
    },
    {
      "cell_type": "code",
      "metadata": {
        "id": "njgShpxkxdl3",
        "colab_type": "code",
        "colab": {
          "base_uri": "https://localhost:8080/",
          "height": 504
        },
        "outputId": "f977e4dc-e0a3-4ef3-8d44-230d80f4f12f"
      },
      "source": [
        "# run the model here\n",
        "\n",
        "data = text\n",
        "window = 5\n",
        "\n",
        "driver(data, window)"
      ],
      "execution_count": null,
      "outputs": [
        {
          "output_type": "stream",
          "text": [
            "Generating matrices for text:  First Citi ...\n",
            "Building target encoder...\n",
            "Building matrices...\n",
            "Built layer 0\n",
            "Built layer 1\n",
            "Built layer 2\n",
            "Built layer 3\n",
            "Built layer 4\n",
            "Generation complete!\n",
            "\n",
            "Analysing model...\n",
            "Working on layer: 0\n",
            "Working on layer: 1\n",
            "Working on layer: 2\n",
            "Working on layer: 3\n",
            "Working on layer: 4\n",
            "Final weights: [75235, 0, 0, 0, 0]\n",
            "75235 correct out of 1115389 predictions.\n",
            "Accuracy: 6.745180381015054 %\n",
            "Time taken: 10.380549192428589\n",
            "\n",
            "Generating with seed: First\n",
            "FirsthPHeo?ub.\n",
            "RWhoepollo?ub.\n",
            "RWhoepollo?ub.\n",
            "RWhoepollo?ub.\n",
            "RWhoepollo?ub.\n",
            "RWhoepollo?ub.\n",
            "RWhoepollo?\n"
          ],
          "name": "stdout"
        }
      ]
    },
    {
      "cell_type": "code",
      "metadata": {
        "id": "F8VStstnpwGj",
        "colab_type": "code",
        "colab": {}
      },
      "source": [
        ""
      ],
      "execution_count": null,
      "outputs": []
    }
  ]
}