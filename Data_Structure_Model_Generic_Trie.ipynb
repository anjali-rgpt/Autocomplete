{
  "nbformat": 4,
  "nbformat_minor": 0,
  "metadata": {
    "colab": {
      "name": "Data Structure Model - Generic Trie.ipynb",
      "provenance": [],
      "collapsed_sections": [],
      "include_colab_link": true
    },
    "kernelspec": {
      "name": "python3",
      "display_name": "Python 3"
    }
  },
  "cells": [
    {
      "cell_type": "markdown",
      "metadata": {
        "id": "view-in-github",
        "colab_type": "text"
      },
      "source": [
        "<a href=\"https://colab.research.google.com/github/anjali-rgpt/Autocomplete/blob/master/Data_Structure_Model_Generic_Trie.ipynb\" target=\"_parent\"><img src=\"https://colab.research.google.com/assets/colab-badge.svg\" alt=\"Open In Colab\"/></a>"
      ]
    },
    {
      "cell_type": "code",
      "metadata": {
        "id": "UKnHGDG-wnIa",
        "colab_type": "code",
        "colab": {}
      },
      "source": [
        "# import libraries here\n",
        "\n",
        "%tensorflow_version 2.x\n",
        "import tensorflow as tf\n",
        "import nltk\n",
        "from nltk.tokenize import word_tokenize\n",
        "from functools import reduce\n",
        "import requests"
      ],
      "execution_count": 1,
      "outputs": []
    },
    {
      "cell_type": "code",
      "metadata": {
        "id": "aIc8MiJmXoqk",
        "colab_type": "code",
        "colab": {
          "base_uri": "https://localhost:8080/",
          "height": 67
        },
        "outputId": "1a04c47a-d2f1-4698-defe-7925cbc8a96f"
      },
      "source": [
        "# nltk setup\n",
        "nltk.download('punkt')"
      ],
      "execution_count": 2,
      "outputs": [
        {
          "output_type": "stream",
          "text": [
            "[nltk_data] Downloading package punkt to /root/nltk_data...\n",
            "[nltk_data]   Unzipping tokenizers/punkt.zip.\n"
          ],
          "name": "stdout"
        },
        {
          "output_type": "execute_result",
          "data": {
            "text/plain": [
              "True"
            ]
          },
          "metadata": {
            "tags": []
          },
          "execution_count": 2
        }
      ]
    },
    {
      "cell_type": "code",
      "metadata": {
        "id": "fYuplIrONypV",
        "colab_type": "code",
        "colab": {}
      },
      "source": [
        "# import dataset here\n",
        "\n",
        "r = requests.get('https://raw.githubusercontent.com/dwyl/english-words/master/words_alpha.txt')\n",
        "text = r.text"
      ],
      "execution_count": 3,
      "outputs": []
    },
    {
      "cell_type": "code",
      "metadata": {
        "id": "oTG8fTghw-xd",
        "colab_type": "code",
        "colab": {}
      },
      "source": [
        "# define a Trie class\n",
        "\n",
        "class Trie:\n",
        "    def __init__(self):\n",
        "      self.children = {}\n",
        "      self.flag = False   # Flag to represent that a word ends at this node\n",
        "      self.count = 1\n",
        "      self.word_list = set()\n",
        "\n",
        "    def add(self, char):\n",
        "      self.children[char] = Trie()\n",
        "\n",
        "    def insert(self, word):\n",
        "      node = self\n",
        "      for char in word:\n",
        "        if char not in node.children:\n",
        "            node.add(char)\n",
        "        else:\n",
        "            node.count += 1\n",
        "        node = node.children[char]\n",
        "      node.flag = True\n",
        "\n",
        "    def contains(self, word):\n",
        "      node = self\n",
        "      for char in word:\n",
        "        if char not in node.children:\n",
        "          return False\n",
        "        node = node.children[char]\n",
        "      return node.flag\n",
        "\n",
        "    # Inefficient recursive implementation\n",
        "    def search(self, node, word):\n",
        "      if node.flag: \n",
        "        self.word_list.add(word) \n",
        "      for a, n in node.children.items(): \n",
        "        self.search(n, word + a) \n",
        "\n",
        "    def predict(self, prefix):\n",
        "      node = self\n",
        "      self.word_list = set()\n",
        "      for char in prefix:\n",
        "        if char not in node.children:\n",
        "          return set()\n",
        "        node = node.children[char]\n",
        "      self.search(node, prefix)\n",
        "      return self.word_list\n",
        "    \n",
        "    # GitHub implementation - please message with link to your original implementation, if you feel very strongly about this\n",
        "    def all_suffixes(self, prefix):\n",
        "      results = set()\n",
        "      if self.flag:\n",
        "        results.add(prefix)\n",
        "      if not self.children: return results\n",
        "      return reduce(lambda a, b: a | b, [node.all_suffixes(prefix + char) for (char, node) in self.children.items()]) | results\n",
        "\n",
        "    def autocomplete(self, prefix):\n",
        "      node = self\n",
        "      for char in prefix:\n",
        "        if char not in node.children:\n",
        "          return set()\n",
        "        node = node.children[char]\n",
        "      return list(node.all_suffixes(prefix))"
      ],
      "execution_count": 4,
      "outputs": []
    },
    {
      "cell_type": "code",
      "metadata": {
        "id": "iDTrzrqlx8eB",
        "colab_type": "code",
        "colab": {}
      },
      "source": [
        "# function to generate a Trie from given text document\n",
        "\n",
        "def TrieGenerator(text):\n",
        "  #extracts tokens\n",
        "  tokens=word_tokenize(text)\n",
        "\n",
        "  #lowercases all words and drops tokens with non alphanumeric characters\n",
        "  words=[w.lower() for w in tokens if w.isalnum()]\n",
        "\n",
        "  #generate symbols list\n",
        "  symbols=set(text)\n",
        "  \n",
        "  trie = Trie()\n",
        "  for word in words:\n",
        "    trie.insert(word)\n",
        "\n",
        "  return trie"
      ],
      "execution_count": 5,
      "outputs": []
    },
    {
      "cell_type": "code",
      "metadata": {
        "id": "ldZ9gL5nyIaU",
        "colab_type": "code",
        "colab": {}
      },
      "source": [
        "# generate Trie from dataset\n",
        "\n",
        "# smolTrie = TrieGenerator(\"the quick brown fox jumps over the lazy dog\")\n",
        "bigTrie = TrieGenerator(text)"
      ],
      "execution_count": 6,
      "outputs": []
    },
    {
      "cell_type": "code",
      "metadata": {
        "id": "6DX-heMaXumR",
        "colab_type": "code",
        "colab": {
          "base_uri": "https://localhost:8080/",
          "height": 55
        },
        "outputId": "03220d52-624e-4eec-e4f1-68f65e3712b0"
      },
      "source": [
        "test = 'app'\n",
        "\n",
        "print(bigTrie.predict(test))"
      ],
      "execution_count": null,
      "outputs": [
        {
          "output_type": "stream",
          "text": [
            "{'apparelling', 'apprentices', 'appendices', 'appliableness', 'applosion', 'appeacher', 'appetized', 'appellees', 'appanage', 'appliant', 'apperceive', 'appraisers', 'apparentement', 'appropriateness', 'appropriates', 'appendages', 'apparitor', 'appetising', 'appetizing', 'apposite', 'apposer', 'appendicate', 'applauds', 'appendaged', 'appellor', 'appd', 'appetizers', 'appositely', 'apprehended', 'appels', 'appliably', 'apposing', 'appendicectasis', 'appalachian', 'approof', 'appertain', 'applicable', 'appendiculariidae', 'applauder', 'append', 'appositeness', 'apportions', 'appulses', 'appetitional', 'apprense', 'approbator', 'appearanced', 'approvement', 'appellants', 'appendixed', 'appliqued', 'approached', 'appetibleness', 'apprehensible', 'appeasable', 'appl', 'appeasably', 'appertaining', 'appreciatively', 'applauses', 'appropriation', 'appaloosa', 'appellatively', 'appellors', 'appalled', 'apprised', 'applyingly', 'appreteur', 'apparats', 'apprentice', 'applegrower', 'appendent', 'apply', 'appreve', 'appealed', 'appropriament', 'apportion', 'approbativeness', 'approvableness', 'approachless', 'apparatuses', 'appetisse', 'applicably', 'appointe', 'appling', 'appetitiveness', 'applejack', 'appoggiaturas', 'apprising', 'approachable', 'apprehensive', 'apple', 'appal', 'appercipient', 'appetent', 'appliques', 'apparel', 'approx', 'appendicostomy', 'apprises', 'applosive', 'apposability', 'appartement', 'appointees', 'appay', 'appositionally', 'appealers', 'applaudably', 'apptd', 'appunctuation', 'appendiculata', 'appulsion', 'apparencies', 'applenut', 'appeasements', 'apprehensively', 'approbation', 'apprizers', 'approximately', 'apparation', 'appomatox', 'apport', 'appendixing', 'appendiculate', 'apperceptionistic', 'appreciably', 'apprizement', 'appreciable', 'appetition', 'appendicectomy', 'appointing', 'appurtenance', 'appearers', 'appressoria', 'appraisals', 'appertains', 'applicators', 'apparens', 'appealer', 'appropinquation', 'apposes', 'applicatively', 'appoggiatura', 'applausively', 'appointment', 'appellability', 'appointee', 'approach', 'applicatory', 'appenzell', 'appending', 'appraisingly', 'apprise', 'applesnits', 'apposable', 'appleroot', 'appliqueing', 'appleringy', 'applied', 'apprizes', 'appenditious', 'appealable', 'approvers', 'apportioned', 'approximant', 'appear', 'approximate', 'appropinquate', 'appomattox', 'appulsive', 'appreciativeness', 'approver', 'appropriations', 'appreciatory', 'apprisers', 'appriser', 'appassionatamente', 'appeasers', 'application', 'apparentements', 'appropriate', 'apprehensiveness', 'appro', 'appressorium', 'appetently', 'appellational', 'appearances', 'appeasive', 'appress', 'apportioning', 'appointable', 'apprehension', 'appendiceal', 'appendorontgenography', 'appraisable', 'appeals', 'appraiser', 'apparitions', 'appetitious', 'appredicate', 'apprenticement', 'approbatory', 'apparat', 'appetiser', 'approvably', 'appreciativ', 'appreciated', 'appliedly', 'applauding', 'appreciates', 'appease', 'appropriative', 'appliers', 'appealingly', 'apposition', 'apprehensibility', 'appendix', 'appraisive', 'appulse', 'approachabl', 'appendance', 'appetites', 'appanagist', 'approaching', 'approvedly', 'approves', 'applewife', 'apposers', 'apparent', 'appointer', 'apprizal', 'appalto', 'appreciations', 'apprehends', 'approximated', 'apprizing', 'approval', 'applejohn', 'appendant', 'appositively', 'appleringie', 'appreciation', 'appanaging', 'appreciatingly', 'appeasing', 'appendicious', 'applies', 'appetitive', 'appledrane', 'appraise', 'appet', 'appentice', 'appliances', 'appassionata', 'apparatchiki', 'apprend', 'appetencies', 'applemonger', 'appendectomies', 'appendiculated', 'apparatus', 'appleberry', 'approximants', 'appassionate', 'apparition', 'appense', 'appoint', 'appendectomy', 'approachers', 'appellation', 'appeasingly', 'apperceiving', 'appersonification', 'appreciational', 'appreciating', 'apprompt', 'apprenticed', 'appealability', 'apparels', 'appendicularia', 'approvedness', 'appendicocaecostomy', 'apperil', 'apparency', 'apprest', 'applause', 'approximating', 'approved', 'appertained', 'approachableness', 'appressor', 'appleblossom', 'applicator', 'applot', 'apprizer', 'approximation', 'appanaged', 'appose', 'appositions', 'appreciator', 'appressorial', 'appennage', 'apperception', 'appositive', 'approvingly', 'appointments', 'appropriately', 'approvance', 'appropinquity', 'apportioner', 'applier', 'approbative', 'applewoman', 'appellative', 'appellatived', 'appellable', 'applique', 'applicative', 'appreciate', 'apprenticeships', 'apprenticing', 'appends', 'appearing', 'appraises', 'applausive', 'appellee', 'appallingly', 'apprenticehood', 'appropriators', 'appendicial', 'approachability', 'appledrone', 'appropriativeness', 'appropriator', 'appomattoc', 'apprehendable', 'appendency', 'appar', 'applesauce', 'appetence', 'appestat', 'approaches', 'appliable', 'appt', 'appulsively', 'app', 'apprecate', 'apportionment', 'appendicle', 'approbating', 'appointively', 'appellant', 'applotment', 'approximativeness', 'approving', 'appanages', 'apportionments', 'appetite', 'apprehensibly', 'appalls', 'applicant', 'applying', 'appale', 'apparence', 'appalling', 'appendicular', 'appaloosas', 'apparatchiks', 'appareled', 'appel', 'apparelment', 'appellations', 'appeases', 'applanation', 'appreciators', 'apparelled', 'appeasement', 'applaudingly', 'applewood', 'appearer', 'appoints', 'appurtenant', 'appall', 'applecart', 'apperceptive', 'applicabilities', 'appropriated', 'appraising', 'appeachment', 'appears', 'appropriating', 'applicancy', 'appreciatorily', 'appointor', 'apperceived', 'appeasableness', 'appealingness', 'approbate', 'applicableness', 'apppetible', 'appetizingly', 'approbated', 'appendicularian', 'apperceptionist', 'appendancy', 'appointed', 'apprehend', 'approachment', 'apparentness', 'appast', 'appertinent', 'approximates', 'appareling', 'approximations', 'applicate', 'apportionate', 'apples', 'apprenticeship', 'appallment', 'appeased', 'appendalgia', 'appearance', 'appalachians', 'apparentation', 'appmt', 'apprized', 'appenage', 'appinite', 'applanate', 'appestats', 'apprize', 'appraised', 'apparance', 'apparail', 'appui', 'apparitional', 'appetize', 'appender', 'appointive', 'appended', 'apprehending', 'appressed', 'appellate', 'appendence', 'appius', 'approximable', 'approximative', 'appealing', 'appellancy', 'appreciant', 'appenders', 'approbations', 'appetency', 'approve', 'apprehender', 'appertise', 'apportionable', 'appetibility', 'appraisement', 'apposiopestic', 'applauders', 'appere', 'apposed', 'appertainment', 'appreciative', 'applicants', 'appete', 'appetizement', 'appropre', 'appassionato', 'appendicitis', 'appoggiature', 'appraisal', 'appeaser', 'approvable', 'appetitost', 'applauded', 'appeared', 'apperceptionism', 'approximatively', 'appositional', 'approximator', 'appendixes', 'approacher', 'appendice', 'appurtenances', 'apparently', 'appendage', 'appeal', 'apprehendingly', 'appled', 'appendical', 'applyment', 'appalachia', 'approximal', 'appendotome', 'appair', 'applaudable', 'applicability', 'apprehensions', 'appert', 'appendicalgia', 'appliance', 'appellativeness', 'appropriable', 'approvability', 'applaud', 'appallingness', 'appetit', 'appals', 'appellatory', 'applications', 'appetible', 'appendicectomies', 'apparatchik', 'appointers', 'appeach', 'apperceptively', 'approvals', 'appaume', 'appersonation', 'appetizer', 'appalment', 'applicatorily', 'appaumee'}\n"
          ],
          "name": "stdout"
        }
      ]
    },
    {
      "cell_type": "code",
      "metadata": {
        "id": "Iwvi_gnC-HYC",
        "colab_type": "code",
        "colab": {
          "base_uri": "https://localhost:8080/",
          "height": 34
        },
        "outputId": "9655e98f-ca2a-4bda-c333-860750250926"
      },
      "source": [
        "import sys\n",
        "\n",
        "def get_size(obj, seen=None):\n",
        "    size = sys.getsizeof(obj)\n",
        "    if seen is None:\n",
        "        seen = set()\n",
        "    obj_id = id(obj)\n",
        "    if obj_id in seen:\n",
        "        return 0\n",
        "    seen.add(obj_id)\n",
        "    if isinstance(obj, dict):\n",
        "        size += sum([get_size(v, seen) for v in obj.values()])\n",
        "        size += sum([get_size(k, seen) for k in obj.keys()])\n",
        "    elif hasattr(obj, '__dict__'):\n",
        "        size += get_size(obj.__dict__, seen)\n",
        "    elif hasattr(obj, '__iter__') and not isinstance(obj, (str, bytes, bytearray)):\n",
        "        size += sum([get_size(i, seen) for i in obj])\n",
        "\n",
        "    return size\n",
        "\n",
        "print(get_size(bigTrie), 'bytes')"
      ],
      "execution_count": 7,
      "outputs": [
        {
          "output_type": "stream",
          "text": [
            "651596674 bytes\n"
          ],
          "name": "stdout"
        }
      ]
    },
    {
      "cell_type": "code",
      "metadata": {
        "id": "Iey41kmCwYNw",
        "colab_type": "code",
        "colab": {}
      },
      "source": [
        ""
      ],
      "execution_count": null,
      "outputs": []
    }
  ]
}